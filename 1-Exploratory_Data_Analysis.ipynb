{
 "cells": [
  {
   "cell_type": "markdown",
   "metadata": {},
   "source": [
    "<h2 align=\"center\">Customer Loyalty Score Prediction</h2> \n",
    "\n",
    "<strong>This Capstone project deals with the \"loyalty score prediction\" for elo merchant category recommendation. Elo is one of the largest payments brands in Brazil and has tied up partnership with merchants in order to offer promotions and discounts to cardholders. </strong>\n",
    "\n",
    "<strong> So, in order to reduce commotion and ease out the campaign process of Elo and their partnered merchants it will be beneficial to predict the loyalty score for every customer. It is based on these loyalty score it will be decided to which customers should the recommendation of restuarants with discounts from your credit card provider for a local place shall be offered provided. </strong>"
   ]
  },
  {
   "cell_type": "markdown",
   "metadata": {},
   "source": [
    "### Dataset\n",
    "\n",
    "1. Data_Dictionary\n",
    "2. historical_transactions\n",
    "3. old merchants\n",
    "4. new_merchant transactions\n",
    "5. test dataset\n",
    "6. train dataset"
   ]
  },
  {
   "cell_type": "markdown",
   "metadata": {},
   "source": [
    "#### Defining some variables in the dataset\n",
    "\n",
    "merchant_id: Unique merchant identifier <br>\n",
    "merchant_group_id: Merchant group <br>\n",
    "merchant_category_id: Unique identifier for merchant category <br>\n",
    "subsector_id: Merchant category group <br>\n",
    "most_recent_sales_range: Range of revenue (monetary units) in last active month --> A > B > C > D > E <br>\n",
    "most_recent_purchases_range: Range of quantity of transactions in last active month --> A > B > C > D > E <br>\n",
    "avg_sales_lag3: Monthly average of revenue in last 3 months divided by revenue in last active month\n",
    "avg_purchases_lag3: Monthly average of transactions in last 3 months divided by transactions in last active month <br>\n",
    "active_months_lag3: Quantity of active months within last 3 months <br>\n",
    "avg_sales_lag6: Monthly average of revenue in last 6 months divided by revenue in last active month <br>\n",
    "avg_purchases_lag6: Monthly average of transactions in last 6 months divided by transactions in last active month <br>\n",
    "active_months_lag6: Quantity of active months within last 6 months <br>\n",
    "avg_sales_lag12: Monthly average of revenue in last 12 months divided by revenue in last active month <br>\n",
    "avg_purchases_lag12: Monthly average of transactions in last 12 months divided by transactions in last active month <br>\n",
    "active_months_lag12: Quantity of active months within last 12 months <br>\n"
   ]
  },
  {
   "cell_type": "markdown",
   "metadata": {},
   "source": [
    "#### Predicting the loyalty score for recommendation results in a regressional output. We will be using Ensemble Learning and Deep Learning neural networks(using tensor-flow) for predicting the loyalty score. Let's talk a brief about Ensemble learning."
   ]
  },
  {
   "cell_type": "markdown",
   "metadata": {},
   "source": [
    "#### ENSEMBLE LEARNING:\n",
    "\n",
    "Ensemble learning combines the effective power of combined learners used for model building and the result is a single model which gives the \"aggregated\" output from the several models.The reason for implementing ensemble learning is that it gives excellent performance and speed as it comprises of base learners. Base learners are those learners which could be either from the same learning algorithm or different learning algorithm. In this ensemble learning technique, XGBoost and LGBoost are used and 50-50% of the predictions from these two algo has been used for aggregating the final predictions which is known as the Ensemble Algorithm.\n",
    "\n",
    "The base learners in boosting are weak learners in which the bias is high, and the predictive power is just a tad better than random guessing. Each of these weak learners contributes some vital information for prediction, enabling the boosting technique to produce a strong learner by effectively combining these weak learners. The final strong learner brings down both the bias and the variance.\n",
    "\n",
    "Benefits of XGB Algorithm are as follows:\n",
    "\n",
    "1. REGULARISATION\n",
    "2. HANDLING SPARSE DATA\n",
    "3. CACHE AWARENESS\n",
    "4. OUT-OF-CORE COMPUTING\n",
    "\n",
    "Benefits of LGB Algorithm are as follows:\n",
    "\n",
    "1. HIGH SPEED\n",
    "2. LOW MEMORY TO RUN\n",
    "3. SUPPORTS GPU LEARNING\n",
    "4. FOCUSES ON THE ACCURACY OF RESULTS\n",
    "\n",
    "_BOTH THESE ALGORITHMS - LGB AND XGB ARE GRADIENT BOOSTING ALORITHMS ARE TREE BASED LEARING ALGORITHMS._ <br>\n",
    "\n",
    "__From the size of the dataset it can be concluded that the length for the nummber of rows is greater than 10,000 \n",
    "which means ensemble learning using the boosting techique can easily be used for model building otherwise the  boosting technique implemetation especially lgboost can be sensitive to overfitting the data and can easily overfit \n",
    "small data. There is no threshold on the number of rows chosen for this process and it's good to use it for more than \n",
    "10,000+ rows datasets.__\n"
   ]
  },
  {
   "cell_type": "code",
   "execution_count": 51,
   "metadata": {},
   "outputs": [
    {
     "data": {
      "text/html": [
       "<script type=\"text/javascript\">window.PlotlyConfig = {MathJaxConfig: 'local'};</script><script type=\"text/javascript\">if (window.MathJax) {MathJax.Hub.Config({SVG: {font: \"STIX-Web\"}});}</script><script>requirejs.config({paths: { 'plotly': ['https://cdn.plot.ly/plotly-latest.min']},});if(!window._Plotly) {require(['plotly'],function(plotly) {window._Plotly=plotly;});}</script>"
      ],
      "text/vnd.plotly.v1+html": [
       "<script type=\"text/javascript\">window.PlotlyConfig = {MathJaxConfig: 'local'};</script><script type=\"text/javascript\">if (window.MathJax) {MathJax.Hub.Config({SVG: {font: \"STIX-Web\"}});}</script><script>requirejs.config({paths: { 'plotly': ['https://cdn.plot.ly/plotly-latest.min']},});if(!window._Plotly) {require(['plotly'],function(plotly) {window._Plotly=plotly;});}</script>"
      ]
     },
     "metadata": {},
     "output_type": "display_data"
    }
   ],
   "source": [
    "# Import Libraries\n",
    "\n",
    "import pandas as pd\n",
    "import numpy as np\n",
    "import matplotlib.pyplot as plt\n",
    "import seaborn as sns\n",
    "sns.set()\n",
    "import plotly.offline as py\n",
    "py.init_notebook_mode(connected=True)\n",
    "import plotly.graph_objs as go\n",
    "import plotly.tools as tls"
   ]
  },
  {
   "cell_type": "code",
   "execution_count": 52,
   "metadata": {},
   "outputs": [],
   "source": [
    "# Importing Data Dictionary\n",
    "\n",
    "xls = pd.ExcelFile('Data_Dictionary.xlsx')\n",
    "Data_Dictionary1 = pd.read_excel(xls, 'train')\n",
    "Data_Dictionary2 = pd.read_excel(xls, 'merchant')\n",
    "Data_Dictionary2 = pd.read_excel(xls, 'history')\n",
    "Data_Dictionary2 = pd.read_excel(xls, 'new_merchant_period')"
   ]
  },
  {
   "cell_type": "code",
   "execution_count": 53,
   "metadata": {},
   "outputs": [
    {
     "name": "stdout",
     "output_type": "stream",
     "text": [
      "Number of rows and columns in train set :  (201917, 6)\n",
      "Number of rows and columns in test set :  (123623, 6)\n"
     ]
    }
   ],
   "source": [
    "# As we will be training the \"train.csv\" file and testing it on the \"test.csv\" file, so we are reading these \n",
    "# files using the pandas function \"read_csv\". \"first_active_month\" column in both the files is used knowing the \n",
    "# first time the card got activated by respective customers. This column is parsed as date and time column.\n",
    "\n",
    "train_df = pd.read_csv(\"train.csv\", parse_dates=[\"first_active_month\"]) \n",
    "test_df = pd.read_csv(\"test.csv\", parse_dates=[\"first_active_month\"])\n",
    "\n",
    "\n",
    "# Knowing the size of the dataset.\n",
    "\n",
    "\n",
    "print(\"Number of rows and columns in train set : \",train_df.shape)\n",
    "print(\"Number of rows and columns in test set : \",test_df.shape)"
   ]
  },
  {
   "cell_type": "code",
   "execution_count": 54,
   "metadata": {},
   "outputs": [
    {
     "data": {
      "image/png": "[encoded data removed]",
      "text/plain": [
       "<Figure size 1296x432 with 3 Axes>"
      ]
     },
     "metadata": {
      "needs_background": "light"
     },
     "output_type": "display_data"
    }
   ],
   "source": [
    "%matplotlib inline\n",
    "\n",
    "plt.figure(figsize=[18,6])\n",
    "plt.suptitle('Feature distributions in train data and test data', fontsize=20, y=1.1)\n",
    "for num, col in enumerate(['feature_1', 'feature_2', 'feature_3']):\n",
    "    plt.subplot(2, 4, num+1)\n",
    "    if col is not 'target':\n",
    "        v_c = train_df[col].value_counts() / train_df.shape[0]\n",
    "        plt.bar(v_c.index, v_c, label=('train'), align='edge', width=-0.3, edgecolor=[0.2]*3)\n",
    "        v_c = test_df[col].value_counts() / test_df.shape[0]\n",
    "        plt.bar(v_c.index, v_c, label=('test'), align='edge', width=0.3, edgecolor=[0.2]*3)\n",
    "        plt.title(col)\n",
    "        plt.legend()\n",
    "plt.show()\n"
   ]
  },
  {
   "cell_type": "markdown",
   "metadata": {},
   "source": [
    "__Looks like the test and train data are distributed similarly.__"
   ]
  },
  {
   "cell_type": "code",
   "execution_count": 55,
   "metadata": {},
   "outputs": [
    {
     "name": "stdout",
     "output_type": "stream",
     "text": [
      "Basic information of Train Dataframe: \n",
      "<class 'pandas.core.frame.DataFrame'>\n",
      "RangeIndex: 201917 entries, 0 to 201916\n",
      "Data columns (total 6 columns):\n",
      "first_active_month    201917 non-null datetime64[ns]\n",
      "card_id               201917 non-null object\n",
      "feature_1             201917 non-null int64\n",
      "feature_2             201917 non-null int64\n",
      "feature_3             201917 non-null int64\n",
      "target                201917 non-null float64\n",
      "dtypes: datetime64[ns](1), float64(1), int64(3), object(1)\n",
      "memory usage: 9.2+ MB\n",
      "None\n",
      " \n",
      "Basic information of Test Dataframe: \n",
      "<class 'pandas.core.frame.DataFrame'>\n",
      "RangeIndex: 123623 entries, 0 to 123622\n",
      "Data columns (total 6 columns):\n",
      "first_active_month    123622 non-null datetime64[ns]\n",
      "card_id               123623 non-null object\n",
      "feature_1             123623 non-null int64\n",
      "feature_2             123623 non-null int64\n",
      "feature_3             123623 non-null int64\n",
      "target                123623 non-null float64\n",
      "dtypes: datetime64[ns](1), float64(1), int64(3), object(1)\n",
      "memory usage: 5.7+ MB\n",
      "None\n"
     ]
    }
   ],
   "source": [
    "# Information of both the dataframes\n",
    "\n",
    "print(\"Basic information of Train Dataframe: \")\n",
    "print(train_df.info())\n",
    "\n",
    "print(\" \")\n",
    "print(\"Basic information of Test Dataframe: \")\n",
    "print(test_df.info())"
   ]
  },
  {
   "cell_type": "markdown",
   "metadata": {},
   "source": [
    "__We can see that there is no null values in train and test data set.__"
   ]
  },
  {
   "cell_type": "code",
   "execution_count": 56,
   "metadata": {},
   "outputs": [
    {
     "name": "stdout",
     "output_type": "stream",
     "text": [
      "Data types of Train set: \n",
      "first_active_month    datetime64[ns]\n",
      "card_id                       object\n",
      "feature_1                      int64\n",
      "feature_2                      int64\n",
      "feature_3                      int64\n",
      "target                       float64\n",
      "dtype: object\n",
      " \n",
      "Data types of Test set: \n",
      "first_active_month    datetime64[ns]\n",
      "card_id                       object\n",
      "feature_1                      int64\n",
      "feature_2                      int64\n",
      "feature_3                      int64\n",
      "target                       float64\n",
      "dtype: object\n"
     ]
    }
   ],
   "source": [
    "# Printing the data types of data frames\n",
    "\n",
    "print(\"Data types of Train set: \")\n",
    "print(train_df.dtypes)\n",
    "\n",
    "print( \" \")\n",
    "print(\"Data types of Test set: \")\n",
    "print(test_df.dtypes)"
   ]
  },
  {
   "cell_type": "markdown",
   "metadata": {},
   "source": [
    "__It shows that the columns in the train and test dataset is integer and card id is object.__"
   ]
  },
  {
   "cell_type": "code",
   "execution_count": 57,
   "metadata": {},
   "outputs": [
    {
     "name": "stdout",
     "output_type": "stream",
     "text": [
      "Head of Train set:\n"
     ]
    },
    {
     "data": {
      "text/html": [
       "<div>\n",
       "<style scoped>\n",
       "    .dataframe tbody tr th:only-of-type {\n",
       "        vertical-align: middle;\n",
       "    }\n",
       "\n",
       "    .dataframe tbody tr th {\n",
       "        vertical-align: top;\n",
       "    }\n",
       "\n",
       "    .dataframe thead th {\n",
       "        text-align: right;\n",
       "    }\n",
       "</style>\n",
       "<table border=\"1\" class=\"dataframe\">\n",
       "  <thead>\n",
       "    <tr style=\"text-align: right;\">\n",
       "      <th></th>\n",
       "      <th>first_active_month</th>\n",
       "      <th>card_id</th>\n",
       "      <th>feature_1</th>\n",
       "      <th>feature_2</th>\n",
       "      <th>feature_3</th>\n",
       "      <th>target</th>\n",
       "    </tr>\n",
       "  </thead>\n",
       "  <tbody>\n",
       "    <tr>\n",
       "      <th>0</th>\n",
       "      <td>2017-06-01</td>\n",
       "      <td>C_ID_92a2005557</td>\n",
       "      <td>5</td>\n",
       "      <td>2</td>\n",
       "      <td>1</td>\n",
       "      <td>-0.820283</td>\n",
       "    </tr>\n",
       "    <tr>\n",
       "      <th>1</th>\n",
       "      <td>2017-01-01</td>\n",
       "      <td>C_ID_3d0044924f</td>\n",
       "      <td>4</td>\n",
       "      <td>1</td>\n",
       "      <td>0</td>\n",
       "      <td>0.392913</td>\n",
       "    </tr>\n",
       "    <tr>\n",
       "      <th>2</th>\n",
       "      <td>2016-08-01</td>\n",
       "      <td>C_ID_d639edf6cd</td>\n",
       "      <td>2</td>\n",
       "      <td>2</td>\n",
       "      <td>0</td>\n",
       "      <td>0.688056</td>\n",
       "    </tr>\n",
       "    <tr>\n",
       "      <th>3</th>\n",
       "      <td>2017-09-01</td>\n",
       "      <td>C_ID_186d6a6901</td>\n",
       "      <td>4</td>\n",
       "      <td>3</td>\n",
       "      <td>0</td>\n",
       "      <td>0.142495</td>\n",
       "    </tr>\n",
       "    <tr>\n",
       "      <th>4</th>\n",
       "      <td>2017-11-01</td>\n",
       "      <td>C_ID_cdbd2c0db2</td>\n",
       "      <td>1</td>\n",
       "      <td>3</td>\n",
       "      <td>0</td>\n",
       "      <td>-0.159749</td>\n",
       "    </tr>\n",
       "  </tbody>\n",
       "</table>\n",
       "</div>"
      ],
      "text/plain": [
       "  first_active_month          card_id  feature_1  feature_2  feature_3  \\\n",
       "0         2017-06-01  C_ID_92a2005557          5          2          1   \n",
       "1         2017-01-01  C_ID_3d0044924f          4          1          0   \n",
       "2         2016-08-01  C_ID_d639edf6cd          2          2          0   \n",
       "3         2017-09-01  C_ID_186d6a6901          4          3          0   \n",
       "4         2017-11-01  C_ID_cdbd2c0db2          1          3          0   \n",
       "\n",
       "     target  \n",
       "0 -0.820283  \n",
       "1  0.392913  \n",
       "2  0.688056  \n",
       "3  0.142495  \n",
       "4 -0.159749  "
      ]
     },
     "execution_count": 57,
     "metadata": {},
     "output_type": "execute_result"
    }
   ],
   "source": [
    "# Printing the head of train data frame.\n",
    "\n",
    "print(\"Head of Train set:\")\n",
    "train_df.head()"
   ]
  },
  {
   "cell_type": "code",
   "execution_count": 58,
   "metadata": {},
   "outputs": [
    {
     "name": "stdout",
     "output_type": "stream",
     "text": [
      "Head of Test set:\n"
     ]
    },
    {
     "data": {
      "text/html": [
       "<div>\n",
       "<style scoped>\n",
       "    .dataframe tbody tr th:only-of-type {\n",
       "        vertical-align: middle;\n",
       "    }\n",
       "\n",
       "    .dataframe tbody tr th {\n",
       "        vertical-align: top;\n",
       "    }\n",
       "\n",
       "    .dataframe thead th {\n",
       "        text-align: right;\n",
       "    }\n",
       "</style>\n",
       "<table border=\"1\" class=\"dataframe\">\n",
       "  <thead>\n",
       "    <tr style=\"text-align: right;\">\n",
       "      <th></th>\n",
       "      <th>first_active_month</th>\n",
       "      <th>card_id</th>\n",
       "      <th>feature_1</th>\n",
       "      <th>feature_2</th>\n",
       "      <th>feature_3</th>\n",
       "      <th>target</th>\n",
       "    </tr>\n",
       "  </thead>\n",
       "  <tbody>\n",
       "    <tr>\n",
       "      <th>0</th>\n",
       "      <td>2017-04-01</td>\n",
       "      <td>C_ID_0ab67a22ab</td>\n",
       "      <td>3</td>\n",
       "      <td>3</td>\n",
       "      <td>1</td>\n",
       "      <td>-2.939652</td>\n",
       "    </tr>\n",
       "    <tr>\n",
       "      <th>1</th>\n",
       "      <td>2017-01-01</td>\n",
       "      <td>C_ID_130fd0cbdd</td>\n",
       "      <td>2</td>\n",
       "      <td>3</td>\n",
       "      <td>0</td>\n",
       "      <td>-0.197690</td>\n",
       "    </tr>\n",
       "    <tr>\n",
       "      <th>2</th>\n",
       "      <td>2017-08-01</td>\n",
       "      <td>C_ID_b709037bc5</td>\n",
       "      <td>5</td>\n",
       "      <td>1</td>\n",
       "      <td>1</td>\n",
       "      <td>0.069844</td>\n",
       "    </tr>\n",
       "    <tr>\n",
       "      <th>3</th>\n",
       "      <td>2017-12-01</td>\n",
       "      <td>C_ID_d27d835a9f</td>\n",
       "      <td>2</td>\n",
       "      <td>1</td>\n",
       "      <td>0</td>\n",
       "      <td>0.085061</td>\n",
       "    </tr>\n",
       "    <tr>\n",
       "      <th>4</th>\n",
       "      <td>2015-12-01</td>\n",
       "      <td>C_ID_2b5e3df5c2</td>\n",
       "      <td>5</td>\n",
       "      <td>1</td>\n",
       "      <td>1</td>\n",
       "      <td>-0.742415</td>\n",
       "    </tr>\n",
       "  </tbody>\n",
       "</table>\n",
       "</div>"
      ],
      "text/plain": [
       "  first_active_month          card_id  feature_1  feature_2  feature_3  \\\n",
       "0         2017-04-01  C_ID_0ab67a22ab          3          3          1   \n",
       "1         2017-01-01  C_ID_130fd0cbdd          2          3          0   \n",
       "2         2017-08-01  C_ID_b709037bc5          5          1          1   \n",
       "3         2017-12-01  C_ID_d27d835a9f          2          1          0   \n",
       "4         2015-12-01  C_ID_2b5e3df5c2          5          1          1   \n",
       "\n",
       "     target  \n",
       "0 -2.939652  \n",
       "1 -0.197690  \n",
       "2  0.069844  \n",
       "3  0.085061  \n",
       "4 -0.742415  "
      ]
     },
     "execution_count": 58,
     "metadata": {},
     "output_type": "execute_result"
    }
   ],
   "source": [
    "# Printing the head of train data frame.\n",
    "\n",
    "print(\"Head of Test set:\")\n",
    "test_df.head()\n"
   ]
  },
  {
   "cell_type": "markdown",
   "metadata": {},
   "source": [
    "__It seems like the columns feature_1, feature_2 and feature_3 contains the class values.__"
   ]
  },
  {
   "cell_type": "code",
   "execution_count": 59,
   "metadata": {},
   "outputs": [
    {
     "name": "stdout",
     "output_type": "stream",
     "text": [
      "Statistical information of Train Dataframe: \n",
      "           feature_1      feature_2      feature_3         target\n",
      "count  201917.000000  201917.000000  201917.000000  201917.000000\n",
      "mean        3.105311       1.745410       0.565569      -0.393636\n",
      "std         1.186160       0.751362       0.495683       3.850500\n",
      "min         1.000000       1.000000       0.000000     -33.219281\n",
      "25%         2.000000       1.000000       0.000000      -0.883110\n",
      "50%         3.000000       2.000000       1.000000      -0.023437\n",
      "75%         4.000000       2.000000       1.000000       0.765453\n",
      "max         5.000000       3.000000       1.000000      17.965068\n"
     ]
    }
   ],
   "source": [
    "# It represents the statistical information like the count, mean, std, min, 25%, 50%, 75% and maximum observation in the data.\n",
    "\n",
    "print(\"Statistical information of Train Dataframe: \")\n",
    "print(train_df.describe())  "
   ]
  },
  {
   "cell_type": "code",
   "execution_count": 60,
   "metadata": {},
   "outputs": [
    {
     "name": "stdout",
     "output_type": "stream",
     "text": [
      "Statistical information of Test Dataframe: \n",
      "          feature_1      feature_2      feature_3         target\n",
      "count  123623.00000  123623.000000  123623.000000  123623.000000\n",
      "mean        3.10926       1.741796       0.564377      -0.332562\n",
      "std         1.18911       0.749195       0.495840       0.599406\n",
      "min         1.00000       1.000000       0.000000      -8.582400\n",
      "25%         2.00000       1.000000       0.000000      -0.472117\n",
      "50%         3.00000       2.000000       1.000000      -0.107746\n",
      "75%         4.00000       2.000000       1.000000      -0.008996\n",
      "max         5.00000       3.000000       1.000000       1.077705\n"
     ]
    }
   ],
   "source": [
    "# Printing the statistical information of test dataset.\n",
    "\n",
    "print(\"Statistical information of Test Dataframe: \")\n",
    "print(test_df.describe())"
   ]
  },
  {
   "cell_type": "markdown",
   "metadata": {},
   "source": [
    "__The above figures shows that test and train are almost similar.__"
   ]
  },
  {
   "cell_type": "code",
   "execution_count": 61,
   "metadata": {},
   "outputs": [
    {
     "data": {
      "image/png": "[encoded data removed]",
      "text/plain": [
       "<Figure size 576x432 with 1 Axes>"
      ]
     },
     "metadata": {
      "needs_background": "light"
     },
     "output_type": "display_data"
    }
   ],
   "source": [
    "# Plotting the \"target\" column from train_df\n",
    "\n",
    "\n",
    "\n",
    "plt.figure(figsize=(8,6))\n",
    "plt.scatter(range(train_df.shape[0]), np.sort(train_df[\"target\"].values),color = 'maroon')\n",
    "plt.xlabel('index', fontsize=12)\n",
    "plt.ylabel('Loyalty Score', fontsize=12)\n",
    "plt.show()\n"
   ]
  },
  {
   "cell_type": "code",
   "execution_count": 62,
   "metadata": {},
   "outputs": [
    {
     "name": "stderr",
     "output_type": "stream",
     "text": [
      "/anaconda3/lib/python3.7/site-packages/scipy/stats/stats.py:1713: FutureWarning:\n",
      "\n",
      "Using a non-tuple sequence for multidimensional indexing is deprecated; use `arr[tuple(seq)]` instead of `arr[seq]`. In the future this will be interpreted as an array index, `arr[np.array(seq)]`, which will result either in an error or a different result.\n",
      "\n"
     ]
    },
    {
     "data": {
      "image/png": "[encoded data removed]",
      "text/plain": [
       "<Figure size 576x432 with 1 Axes>"
      ]
     },
     "metadata": {
      "needs_background": "light"
     },
     "output_type": "display_data"
    }
   ],
   "source": [
    "# Histogram of loyalty score\n",
    "\n",
    "# As from the above plot, not a good conclusion of the loyalty score can be seen therefore we go for the histogram plot. \n",
    "# It can be seen that it follows a normal distribution curve for the loyalty score with a mean of zero and standard \n",
    "# deviation of +- 4sigma. For the data points, which are out of 4sigma that data points are the outliers in this case values \n",
    "# greater than -30 are consider as outlier values.\n",
    "\n",
    "target_col = \"target\"   # variable for target_col\n",
    "\n",
    "plt.figure(figsize=(8,6))\n",
    "sns.distplot(train_df[target_col].values, bins=50, color=\"brown\")\n",
    "plt.title(\"Histogram of Loyalty score\")\n",
    "plt.xlabel('Loyalty score or Target Column', fontsize=14)\n",
    "plt.ylabel('Relative frequency of scores', fontsize=14)\n",
    "plt.show()\n"
   ]
  },
  {
   "cell_type": "markdown",
   "metadata": {},
   "source": [
    "__Counting the numbers of id which is below score -30. There are total 2207 of them.__"
   ]
  },
  {
   "cell_type": "code",
   "execution_count": 63,
   "metadata": {},
   "outputs": [
    {
     "data": {
      "text/plain": [
       "2207"
      ]
     },
     "execution_count": 63,
     "metadata": {},
     "output_type": "execute_result"
    }
   ],
   "source": [
    "(train_df['target']<-30).sum()"
   ]
  },
  {
   "cell_type": "markdown",
   "metadata": {},
   "source": [
    "__Exploration is always done to read the tabulated data. In this exploration, the histogram and scatter plot of target column is plotted in terms of their frequency just to analyze the shape of the predicted column and to check if the distribution follows is a normal distribution with a mean of ‘ZERO’ and a standard deviation of +- 1. Herein, it is seen that some of the loyalty score shares a score of less than -30. This can be concluded that with so low rating of loyalty scores, will lead to not recommended zone for the next time.__"
   ]
  },
  {
   "cell_type": "markdown",
   "metadata": {},
   "source": [
    "__NOTE:__ It is clear from the dataset the feature_1, feature_2, feature_3 all are categorical variables\n",
    "\n",
    "Number of categories of each of them is as follows:\n",
    "\n",
    "__feature_1 : Five categories (1, 2, 3, 4, 5)__\n",
    "\n",
    "__feature_2 : Three categories (1, 2, 3)__\n",
    "\n",
    "__feature_3 : Two categories (0, 1)__"
   ]
  },
  {
   "cell_type": "code",
   "execution_count": 64,
   "metadata": {},
   "outputs": [
    {
     "data": {
      "image/png": "[encoded data removed]",
      "text/plain": [
       "<Figure size 576x288 with 1 Axes>"
      ]
     },
     "metadata": {
      "needs_background": "light"
     },
     "output_type": "display_data"
    },
    {
     "data": {
      "image/png": "[encoded data removed]",
      "text/plain": [
       "<Figure size 576x288 with 1 Axes>"
      ]
     },
     "metadata": {
      "needs_background": "light"
     },
     "output_type": "display_data"
    },
    {
     "data": {
      "image/png": "[encoded data removed]",
      "text/plain": [
       "<Figure size 576x288 with 1 Axes>"
      ]
     },
     "metadata": {
      "needs_background": "light"
     },
     "output_type": "display_data"
    },
    {
     "name": "stdout",
     "output_type": "stream",
     "text": [
      "Plots gives the density destribution of each category of each feature.\n"
     ]
    }
   ],
   "source": [
    "# Making plots of other features of dataset\n",
    "\n",
    "# We are plotting the Violin Plots for the features. These are similar to box plots, except that it shows \n",
    "# the kernel probability density of data at different points. So, this violin plot is plotted for all the features \n",
    "# with the loyalty scores.\n",
    "\n",
    "colors = [\n",
    "                    '#A040A0',  \n",
    "                    '#F8D030',  \n",
    "                    '#EE99AC',  \n",
    "                    '#C03028',  \n",
    "                    '#F85888',  \n",
    "                    '#B8A038',  \n",
    "                    '#705898',  \n",
    "                    '#98D8D8',  \n",
    "                    '#7038F8',  \n",
    "                   ]\n",
    "# feature 1\n",
    "plt.figure(figsize=(8,4))\n",
    "sns.violinplot(x=\"feature_1\", palette=colors, y= target_col, data=train_df)\n",
    "plt.xticks(rotation='vertical')\n",
    "plt.xlabel('Feature 1', fontsize=12)\n",
    "plt.ylabel('Loyalty score', fontsize=12)\n",
    "plt.title(\"Feature 1 distribution\")\n",
    "plt.show()\n",
    "\n",
    "\n",
    "# feature 2\n",
    "plt.figure(figsize=(8,4))\n",
    "sns.violinplot(x=\"feature_2\", palette='Blues', y= target_col, data=train_df)\n",
    "plt.xticks(rotation='vertical')\n",
    "plt.xlabel('Feature 2', fontsize=12)\n",
    "plt.ylabel('Loyalty score', fontsize=12)\n",
    "plt.title(\"Feature 2 distribution\")\n",
    "plt.show()\n",
    "\n",
    "# feature 3\n",
    "plt.figure(figsize=(8,4))\n",
    "sns.violinplot(x=\"feature_3\", y= target_col, data=train_df)\n",
    "plt.xticks(rotation='vertical')\n",
    "plt.xlabel('Feature 3', fontsize=12)\n",
    "plt.ylabel('Loyalty score', fontsize=12)\n",
    "plt.title(\"Feature 3 distribution\")\n",
    "plt.show()\n",
    "\n",
    "print(\"Plots gives the density destribution of each category of each feature.\")"
   ]
  },
  {
   "cell_type": "markdown",
   "metadata": {},
   "source": [
    "#### The distribution of the different categories in all three features look kind of similar, then models are able to find something here."
   ]
  },
  {
   "cell_type": "code",
   "execution_count": 65,
   "metadata": {},
   "outputs": [
    {
     "data": {
      "text/plain": [
       "Text(0.5, 0.98, 'Counts of categiories for features')"
      ]
     },
     "execution_count": 65,
     "metadata": {},
     "output_type": "execute_result"
    },
    {
     "data": {
      "image/png": "[encoded data removed]",
      "text/plain": [
       "<Figure size 1152x432 with 3 Axes>"
      ]
     },
     "metadata": {
      "needs_background": "light"
     },
     "output_type": "display_data"
    }
   ],
   "source": [
    "# Bar plots of all the categories of all the feature columns\n",
    "\n",
    "fig, ax = plt.subplots(1, 3, figsize = (16, 6))\n",
    "train_df['feature_1'].value_counts().sort_index().plot(kind='barh', align='center',ax=ax[0], color='darkgreen', title='feature_1')\n",
    "train_df['feature_2'].value_counts().sort_index().plot(kind='barh', ax=ax[1], color='0.62', title='feature_2')\n",
    "train_df['feature_3'].value_counts().sort_index().plot(kind='barh', ax=ax[2], color='r', title='feature_3')\n",
    "plt.suptitle('Counts of categiories for features')"
   ]
  },
  {
   "cell_type": "markdown",
   "metadata": {},
   "source": [
    "__Feature 1 has 5 classes, Feaure 2 has 3 classes and Feature 3 has 2 classes.__"
   ]
  },
  {
   "cell_type": "code",
   "execution_count": 66,
   "metadata": {},
   "outputs": [
    {
     "data": {
      "text/html": [
       "<div>\n",
       "<style scoped>\n",
       "    .dataframe tbody tr th:only-of-type {\n",
       "        vertical-align: middle;\n",
       "    }\n",
       "\n",
       "    .dataframe tbody tr th {\n",
       "        vertical-align: top;\n",
       "    }\n",
       "\n",
       "    .dataframe thead th {\n",
       "        text-align: right;\n",
       "    }\n",
       "</style>\n",
       "<table border=\"1\" class=\"dataframe\">\n",
       "  <thead>\n",
       "    <tr style=\"text-align: right;\">\n",
       "      <th></th>\n",
       "      <th>Total</th>\n",
       "      <th>Percent</th>\n",
       "    </tr>\n",
       "  </thead>\n",
       "  <tbody>\n",
       "    <tr>\n",
       "      <th>target</th>\n",
       "      <td>0</td>\n",
       "      <td>0.0</td>\n",
       "    </tr>\n",
       "    <tr>\n",
       "      <th>feature_3</th>\n",
       "      <td>0</td>\n",
       "      <td>0.0</td>\n",
       "    </tr>\n",
       "    <tr>\n",
       "      <th>feature_2</th>\n",
       "      <td>0</td>\n",
       "      <td>0.0</td>\n",
       "    </tr>\n",
       "    <tr>\n",
       "      <th>feature_1</th>\n",
       "      <td>0</td>\n",
       "      <td>0.0</td>\n",
       "    </tr>\n",
       "    <tr>\n",
       "      <th>card_id</th>\n",
       "      <td>0</td>\n",
       "      <td>0.0</td>\n",
       "    </tr>\n",
       "    <tr>\n",
       "      <th>first_active_month</th>\n",
       "      <td>0</td>\n",
       "      <td>0.0</td>\n",
       "    </tr>\n",
       "  </tbody>\n",
       "</table>\n",
       "</div>"
      ],
      "text/plain": [
       "                    Total  Percent\n",
       "target                  0      0.0\n",
       "feature_3               0      0.0\n",
       "feature_2               0      0.0\n",
       "feature_1               0      0.0\n",
       "card_id                 0      0.0\n",
       "first_active_month      0      0.0"
      ]
     },
     "execution_count": 66,
     "metadata": {},
     "output_type": "execute_result"
    }
   ],
   "source": [
    "# checking missing data for train_df. There are no missing values in train data set.\n",
    "\n",
    "total = train_df.isnull().sum().sort_values(ascending = False)\n",
    "percent = (train_df.isnull().sum()/train_df.isnull().count()*100).sort_values(ascending = False)\n",
    "missing_data  = pd.concat([total, percent], axis=1, keys=['Total', 'Percent'])\n",
    "missing_data.head(20)"
   ]
  },
  {
   "cell_type": "code",
   "execution_count": 67,
   "metadata": {},
   "outputs": [
    {
     "data": {
      "text/html": [
       "<div>\n",
       "<style scoped>\n",
       "    .dataframe tbody tr th:only-of-type {\n",
       "        vertical-align: middle;\n",
       "    }\n",
       "\n",
       "    .dataframe tbody tr th {\n",
       "        vertical-align: top;\n",
       "    }\n",
       "\n",
       "    .dataframe thead th {\n",
       "        text-align: right;\n",
       "    }\n",
       "</style>\n",
       "<table border=\"1\" class=\"dataframe\">\n",
       "  <thead>\n",
       "    <tr style=\"text-align: right;\">\n",
       "      <th></th>\n",
       "      <th>Total</th>\n",
       "      <th>Percent</th>\n",
       "    </tr>\n",
       "  </thead>\n",
       "  <tbody>\n",
       "    <tr>\n",
       "      <th>first_active_month</th>\n",
       "      <td>1</td>\n",
       "      <td>0.000809</td>\n",
       "    </tr>\n",
       "    <tr>\n",
       "      <th>target</th>\n",
       "      <td>0</td>\n",
       "      <td>0.000000</td>\n",
       "    </tr>\n",
       "    <tr>\n",
       "      <th>feature_3</th>\n",
       "      <td>0</td>\n",
       "      <td>0.000000</td>\n",
       "    </tr>\n",
       "    <tr>\n",
       "      <th>feature_2</th>\n",
       "      <td>0</td>\n",
       "      <td>0.000000</td>\n",
       "    </tr>\n",
       "    <tr>\n",
       "      <th>feature_1</th>\n",
       "      <td>0</td>\n",
       "      <td>0.000000</td>\n",
       "    </tr>\n",
       "    <tr>\n",
       "      <th>card_id</th>\n",
       "      <td>0</td>\n",
       "      <td>0.000000</td>\n",
       "    </tr>\n",
       "  </tbody>\n",
       "</table>\n",
       "</div>"
      ],
      "text/plain": [
       "                    Total   Percent\n",
       "first_active_month      1  0.000809\n",
       "target                  0  0.000000\n",
       "feature_3               0  0.000000\n",
       "feature_2               0  0.000000\n",
       "feature_1               0  0.000000\n",
       "card_id                 0  0.000000"
      ]
     },
     "execution_count": 67,
     "metadata": {},
     "output_type": "execute_result"
    }
   ],
   "source": [
    "# checking missing data for test_df\n",
    "\n",
    "total = test_df.isnull().sum().sort_values(ascending = False)\n",
    "percent = (test_df.isnull().sum()/test_df.isnull().count()*100).sort_values(ascending = False)\n",
    "missing_data  = pd.concat([total, percent], axis=1, keys=['Total', 'Percent'])\n",
    "missing_data.head(20)"
   ]
  },
  {
   "cell_type": "code",
   "execution_count": 68,
   "metadata": {},
   "outputs": [
    {
     "data": {
      "application/vnd.plotly.v1+json": {
       "config": {
        "linkText": "Export to plot.ly",
        "plotlyServerURL": "https://plot.ly",
        "showLink": false
       },
       "data": [
        {
         "name": "train",
         "type": "scatter",
         "uid": "c12f4a43-efc2-4b68-bc5f-028c8d435057",
         "x": [
          "2011-11-01 04:00:00",
          "2011-12-01 05:00:00",
          "2012-02-01 05:00:00",
          "2012-03-01 05:00:00",
          "2012-04-01 04:00:00",
          "2012-05-01 04:00:00",
          "2012-06-01 04:00:00",
          "2012-07-01 04:00:00",
          "2012-08-01 04:00:00",
          "2012-09-01 04:00:00",
          "2012-10-01 04:00:00",
          "2012-11-01 04:00:00",
          "2012-12-01 05:00:00",
          "2013-01-01 05:00:00",
          "2013-02-01 05:00:00",
          "2013-03-01 05:00:00",
          "2013-04-01 04:00:00",
          "2013-05-01 04:00:00",
          "2013-06-01 04:00:00",
          "2013-07-01 04:00:00",
          "2013-08-01 04:00:00",
          "2013-09-01 04:00:00",
          "2013-10-01 04:00:00",
          "2013-11-01 04:00:00",
          "2013-12-01 05:00:00",
          "2014-01-01 05:00:00",
          "2014-02-01 05:00:00",
          "2014-03-01 05:00:00",
          "2014-04-01 04:00:00",
          "2014-05-01 04:00:00",
          "2014-06-01 04:00:00",
          "2014-07-01 04:00:00",
          "2014-08-01 04:00:00",
          "2014-09-01 04:00:00",
          "2014-10-01 04:00:00",
          "2014-11-01 04:00:00",
          "2014-12-01 05:00:00",
          "2015-01-01 05:00:00",
          "2015-02-01 05:00:00",
          "2015-03-01 05:00:00",
          "2015-04-01 04:00:00",
          "2015-05-01 04:00:00",
          "2015-06-01 04:00:00",
          "2015-07-01 04:00:00",
          "2015-08-01 04:00:00",
          "2015-09-01 04:00:00",
          "2015-10-01 04:00:00",
          "2015-11-01 04:00:00",
          "2015-12-01 05:00:00",
          "2016-01-01 05:00:00",
          "2016-02-01 05:00:00",
          "2016-03-01 05:00:00",
          "2016-04-01 04:00:00",
          "2016-05-01 04:00:00",
          "2016-06-01 04:00:00",
          "2016-07-01 04:00:00",
          "2016-08-01 04:00:00",
          "2016-09-01 04:00:00",
          "2016-10-01 04:00:00",
          "2016-11-01 04:00:00",
          "2016-12-01 05:00:00",
          "2017-01-01 05:00:00",
          "2017-02-01 05:00:00",
          "2017-03-01 05:00:00",
          "2017-04-01 04:00:00",
          "2017-05-01 04:00:00",
          "2017-06-01 04:00:00",
          "2017-07-01 04:00:00",
          "2017-08-01 04:00:00",
          "2017-09-01 04:00:00",
          "2017-10-01 04:00:00",
          "2017-11-01 04:00:00",
          "2017-12-01 05:00:00",
          "2018-01-01 05:00:00",
          "2018-02-01 05:00:00"
         ],
         "y": [
          8,
          2,
          7,
          10,
          18,
          28,
          19,
          29,
          36,
          38,
          31,
          48,
          18,
          23,
          37,
          58,
          58,
          94,
          79,
          110,
          126,
          121,
          126,
          132,
          165,
          144,
          198,
          242,
          352,
          431,
          345,
          407,
          399,
          431,
          476,
          481,
          617,
          533,
          526,
          608,
          733,
          918,
          1104,
          1393,
          1376,
          1494,
          1532,
          1582,
          2343,
          1711,
          1636,
          2005,
          2938,
          3314,
          4102,
          4188,
          4977,
          4410,
          5371,
          7222,
          9403,
          9605,
          8110,
          8271,
          8761,
          9168,
          9930,
          12363,
          13638,
          13878,
          13695,
          12930,
          10170,
          34,
          1
         ]
        },
        {
         "name": "test",
         "type": "scatter",
         "uid": "99188b27-723a-4b7a-b106-0c35dd1dd6f2",
         "x": [
          "2011-11-01 04:00:00",
          "2011-12-01 05:00:00",
          "2012-01-01 05:00:00",
          "2012-02-01 05:00:00",
          "2012-03-01 05:00:00",
          "2012-04-01 04:00:00",
          "2012-05-01 04:00:00",
          "2012-06-01 04:00:00",
          "2012-07-01 04:00:00",
          "2012-08-01 04:00:00",
          "2012-09-01 04:00:00",
          "2012-10-01 04:00:00",
          "2012-11-01 04:00:00",
          "2012-12-01 05:00:00",
          "2013-01-01 05:00:00",
          "2013-02-01 05:00:00",
          "2013-03-01 05:00:00",
          "2013-04-01 04:00:00",
          "2013-05-01 04:00:00",
          "2013-06-01 04:00:00",
          "2013-07-01 04:00:00",
          "2013-08-01 04:00:00",
          "2013-09-01 04:00:00",
          "2013-10-01 04:00:00",
          "2013-11-01 04:00:00",
          "2013-12-01 05:00:00",
          "2014-01-01 05:00:00",
          "2014-02-01 05:00:00",
          "2014-03-01 05:00:00",
          "2014-04-01 04:00:00",
          "2014-05-01 04:00:00",
          "2014-06-01 04:00:00",
          "2014-07-01 04:00:00",
          "2014-08-01 04:00:00",
          "2014-09-01 04:00:00",
          "2014-10-01 04:00:00",
          "2014-11-01 04:00:00",
          "2014-12-01 05:00:00",
          "2015-01-01 05:00:00",
          "2015-02-01 05:00:00",
          "2015-03-01 05:00:00",
          "2015-04-01 04:00:00",
          "2015-05-01 04:00:00",
          "2015-06-01 04:00:00",
          "2015-07-01 04:00:00",
          "2015-08-01 04:00:00",
          "2015-09-01 04:00:00",
          "2015-10-01 04:00:00",
          "2015-11-01 04:00:00",
          "2015-12-01 05:00:00",
          "2016-01-01 05:00:00",
          "2016-02-01 05:00:00",
          "2016-03-01 05:00:00",
          "2016-04-01 04:00:00",
          "2016-05-01 04:00:00",
          "2016-06-01 04:00:00",
          "2016-07-01 04:00:00",
          "2016-08-01 04:00:00",
          "2016-09-01 04:00:00",
          "2016-10-01 04:00:00",
          "2016-11-01 04:00:00",
          "2016-12-01 05:00:00",
          "2017-01-01 05:00:00",
          "2017-02-01 05:00:00",
          "2017-03-01 05:00:00",
          "2017-04-01 04:00:00",
          "2017-05-01 04:00:00",
          "2017-06-01 04:00:00",
          "2017-07-01 04:00:00",
          "2017-08-01 04:00:00",
          "2017-09-01 04:00:00",
          "2017-10-01 04:00:00",
          "2017-11-01 04:00:00",
          "2017-12-01 05:00:00",
          "2018-01-01 05:00:00"
         ],
         "y": [
          3,
          2,
          1,
          4,
          10,
          11,
          12,
          14,
          15,
          21,
          18,
          13,
          18,
          16,
          14,
          28,
          34,
          40,
          44,
          56,
          72,
          73,
          75,
          80,
          80,
          95,
          90,
          97,
          141,
          209,
          263,
          220,
          236,
          265,
          257,
          291,
          296,
          390,
          279,
          335,
          397,
          433,
          604,
          711,
          862,
          882,
          818,
          936,
          955,
          1393,
          996,
          987,
          1258,
          1740,
          2096,
          2407,
          2610,
          3108,
          2663,
          3335,
          4444,
          5751,
          5974,
          4903,
          5058,
          5371,
          5598,
          6147,
          7344,
          8299,
          8805,
          8451,
          7807,
          6233,
          28
         ]
        }
       ],
       "layout": {
        "legend": {
         "orientation": "v"
        },
        "title": {
         "text": "Counts of first active"
        },
        "xaxis": {
         "title": {
          "text": "Month"
         }
        },
        "yaxis": {
         "title": {
          "text": "Count"
         }
        }
       }
      },
      "text/html": [
       "<div id=\"7b3cddfd-a839-4e74-83b1-1c8db87c27ee\" style=\"height: 525px; width: 100%;\" class=\"plotly-graph-div\"></div><script type=\"text/javascript\">require([\"plotly\"], function(Plotly) { window.PLOTLYENV=window.PLOTLYENV || {};window.PLOTLYENV.BASE_URL=\"https://plot.ly\";\n",
       "if (document.getElementById(\"7b3cddfd-a839-4e74-83b1-1c8db87c27ee\")) {\n",
       "    Plotly.newPlot(\"7b3cddfd-a839-4e74-83b1-1c8db87c27ee\", [{\"name\": \"train\", \"x\": [\"2011-11-01 04:00:00\", \"2011-12-01 05:00:00\", \"2012-02-01 05:00:00\", \"2012-03-01 05:00:00\", \"2012-04-01 04:00:00\", \"2012-05-01 04:00:00\", \"2012-06-01 04:00:00\", \"2012-07-01 04:00:00\", \"2012-08-01 04:00:00\", \"2012-09-01 04:00:00\", \"2012-10-01 04:00:00\", \"2012-11-01 04:00:00\", \"2012-12-01 05:00:00\", \"2013-01-01 05:00:00\", \"2013-02-01 05:00:00\", \"2013-03-01 05:00:00\", \"2013-04-01 04:00:00\", \"2013-05-01 04:00:00\", \"2013-06-01 04:00:00\", \"2013-07-01 04:00:00\", \"2013-08-01 04:00:00\", \"2013-09-01 04:00:00\", \"2013-10-01 04:00:00\", \"2013-11-01 04:00:00\", \"2013-12-01 05:00:00\", \"2014-01-01 05:00:00\", \"2014-02-01 05:00:00\", \"2014-03-01 05:00:00\", \"2014-04-01 04:00:00\", \"2014-05-01 04:00:00\", \"2014-06-01 04:00:00\", \"2014-07-01 04:00:00\", \"2014-08-01 04:00:00\", \"2014-09-01 04:00:00\", \"2014-10-01 04:00:00\", \"2014-11-01 04:00:00\", \"2014-12-01 05:00:00\", \"2015-01-01 05:00:00\", \"2015-02-01 05:00:00\", \"2015-03-01 05:00:00\", \"2015-04-01 04:00:00\", \"2015-05-01 04:00:00\", \"2015-06-01 04:00:00\", \"2015-07-01 04:00:00\", \"2015-08-01 04:00:00\", \"2015-09-01 04:00:00\", \"2015-10-01 04:00:00\", \"2015-11-01 04:00:00\", \"2015-12-01 05:00:00\", \"2016-01-01 05:00:00\", \"2016-02-01 05:00:00\", \"2016-03-01 05:00:00\", \"2016-04-01 04:00:00\", \"2016-05-01 04:00:00\", \"2016-06-01 04:00:00\", \"2016-07-01 04:00:00\", \"2016-08-01 04:00:00\", \"2016-09-01 04:00:00\", \"2016-10-01 04:00:00\", \"2016-11-01 04:00:00\", \"2016-12-01 05:00:00\", \"2017-01-01 05:00:00\", \"2017-02-01 05:00:00\", \"2017-03-01 05:00:00\", \"2017-04-01 04:00:00\", \"2017-05-01 04:00:00\", \"2017-06-01 04:00:00\", \"2017-07-01 04:00:00\", \"2017-08-01 04:00:00\", \"2017-09-01 04:00:00\", \"2017-10-01 04:00:00\", \"2017-11-01 04:00:00\", \"2017-12-01 05:00:00\", \"2018-01-01 05:00:00\", \"2018-02-01 05:00:00\"], \"y\": [8, 2, 7, 10, 18, 28, 19, 29, 36, 38, 31, 48, 18, 23, 37, 58, 58, 94, 79, 110, 126, 121, 126, 132, 165, 144, 198, 242, 352, 431, 345, 407, 399, 431, 476, 481, 617, 533, 526, 608, 733, 918, 1104, 1393, 1376, 1494, 1532, 1582, 2343, 1711, 1636, 2005, 2938, 3314, 4102, 4188, 4977, 4410, 5371, 7222, 9403, 9605, 8110, 8271, 8761, 9168, 9930, 12363, 13638, 13878, 13695, 12930, 10170, 34, 1], \"type\": \"scatter\", \"uid\": \"94f1e089-e29d-47cf-94ec-0329ead132c1\"}, {\"name\": \"test\", \"x\": [\"2011-11-01 04:00:00\", \"2011-12-01 05:00:00\", \"2012-01-01 05:00:00\", \"2012-02-01 05:00:00\", \"2012-03-01 05:00:00\", \"2012-04-01 04:00:00\", \"2012-05-01 04:00:00\", \"2012-06-01 04:00:00\", \"2012-07-01 04:00:00\", \"2012-08-01 04:00:00\", \"2012-09-01 04:00:00\", \"2012-10-01 04:00:00\", \"2012-11-01 04:00:00\", \"2012-12-01 05:00:00\", \"2013-01-01 05:00:00\", \"2013-02-01 05:00:00\", \"2013-03-01 05:00:00\", \"2013-04-01 04:00:00\", \"2013-05-01 04:00:00\", \"2013-06-01 04:00:00\", \"2013-07-01 04:00:00\", \"2013-08-01 04:00:00\", \"2013-09-01 04:00:00\", \"2013-10-01 04:00:00\", \"2013-11-01 04:00:00\", \"2013-12-01 05:00:00\", \"2014-01-01 05:00:00\", \"2014-02-01 05:00:00\", \"2014-03-01 05:00:00\", \"2014-04-01 04:00:00\", \"2014-05-01 04:00:00\", \"2014-06-01 04:00:00\", \"2014-07-01 04:00:00\", \"2014-08-01 04:00:00\", \"2014-09-01 04:00:00\", \"2014-10-01 04:00:00\", \"2014-11-01 04:00:00\", \"2014-12-01 05:00:00\", \"2015-01-01 05:00:00\", \"2015-02-01 05:00:00\", \"2015-03-01 05:00:00\", \"2015-04-01 04:00:00\", \"2015-05-01 04:00:00\", \"2015-06-01 04:00:00\", \"2015-07-01 04:00:00\", \"2015-08-01 04:00:00\", \"2015-09-01 04:00:00\", \"2015-10-01 04:00:00\", \"2015-11-01 04:00:00\", \"2015-12-01 05:00:00\", \"2016-01-01 05:00:00\", \"2016-02-01 05:00:00\", \"2016-03-01 05:00:00\", \"2016-04-01 04:00:00\", \"2016-05-01 04:00:00\", \"2016-06-01 04:00:00\", \"2016-07-01 04:00:00\", \"2016-08-01 04:00:00\", \"2016-09-01 04:00:00\", \"2016-10-01 04:00:00\", \"2016-11-01 04:00:00\", \"2016-12-01 05:00:00\", \"2017-01-01 05:00:00\", \"2017-02-01 05:00:00\", \"2017-03-01 05:00:00\", \"2017-04-01 04:00:00\", \"2017-05-01 04:00:00\", \"2017-06-01 04:00:00\", \"2017-07-01 04:00:00\", \"2017-08-01 04:00:00\", \"2017-09-01 04:00:00\", \"2017-10-01 04:00:00\", \"2017-11-01 04:00:00\", \"2017-12-01 05:00:00\", \"2018-01-01 05:00:00\"], \"y\": [3, 2, 1, 4, 10, 11, 12, 14, 15, 21, 18, 13, 18, 16, 14, 28, 34, 40, 44, 56, 72, 73, 75, 80, 80, 95, 90, 97, 141, 209, 263, 220, 236, 265, 257, 291, 296, 390, 279, 335, 397, 433, 604, 711, 862, 882, 818, 936, 955, 1393, 996, 987, 1258, 1740, 2096, 2407, 2610, 3108, 2663, 3335, 4444, 5751, 5974, 4903, 5058, 5371, 5598, 6147, 7344, 8299, 8805, 8451, 7807, 6233, 28], \"type\": \"scatter\", \"uid\": \"9f42613e-7a08-4257-ac43-2b02bbaa50c8\"}], {\"legend\": {\"orientation\": \"v\"}, \"title\": {\"text\": \"Counts of first active\"}, \"xaxis\": {\"title\": {\"text\": \"Month\"}}, \"yaxis\": {\"title\": {\"text\": \"Count\"}}}, {\"showLink\": false, \"linkText\": \"Export to plot.ly\", \"plotlyServerURL\": \"https://plot.ly\"}); \n",
       "}\n",
       "});</script><script type=\"text/javascript\">window.addEventListener(\"resize\", function(){if (document.getElementById(\"7b3cddfd-a839-4e74-83b1-1c8db87c27ee\")) {window._Plotly.Plots.resize(document.getElementById(\"7b3cddfd-a839-4e74-83b1-1c8db87c27ee\"));};})</script>"
      ],
      "text/vnd.plotly.v1+html": [
       "<div id=\"7b3cddfd-a839-4e74-83b1-1c8db87c27ee\" style=\"height: 525px; width: 100%;\" class=\"plotly-graph-div\"></div><script type=\"text/javascript\">require([\"plotly\"], function(Plotly) { window.PLOTLYENV=window.PLOTLYENV || {};window.PLOTLYENV.BASE_URL=\"https://plot.ly\";\n",
       "if (document.getElementById(\"7b3cddfd-a839-4e74-83b1-1c8db87c27ee\")) {\n",
       "    Plotly.newPlot(\"7b3cddfd-a839-4e74-83b1-1c8db87c27ee\", [{\"name\": \"train\", \"x\": [\"2011-11-01 04:00:00\", \"2011-12-01 05:00:00\", \"2012-02-01 05:00:00\", \"2012-03-01 05:00:00\", \"2012-04-01 04:00:00\", \"2012-05-01 04:00:00\", \"2012-06-01 04:00:00\", \"2012-07-01 04:00:00\", \"2012-08-01 04:00:00\", \"2012-09-01 04:00:00\", \"2012-10-01 04:00:00\", \"2012-11-01 04:00:00\", \"2012-12-01 05:00:00\", \"2013-01-01 05:00:00\", \"2013-02-01 05:00:00\", \"2013-03-01 05:00:00\", \"2013-04-01 04:00:00\", \"2013-05-01 04:00:00\", \"2013-06-01 04:00:00\", \"2013-07-01 04:00:00\", \"2013-08-01 04:00:00\", \"2013-09-01 04:00:00\", \"2013-10-01 04:00:00\", \"2013-11-01 04:00:00\", \"2013-12-01 05:00:00\", \"2014-01-01 05:00:00\", \"2014-02-01 05:00:00\", \"2014-03-01 05:00:00\", \"2014-04-01 04:00:00\", \"2014-05-01 04:00:00\", \"2014-06-01 04:00:00\", \"2014-07-01 04:00:00\", \"2014-08-01 04:00:00\", \"2014-09-01 04:00:00\", \"2014-10-01 04:00:00\", \"2014-11-01 04:00:00\", \"2014-12-01 05:00:00\", \"2015-01-01 05:00:00\", \"2015-02-01 05:00:00\", \"2015-03-01 05:00:00\", \"2015-04-01 04:00:00\", \"2015-05-01 04:00:00\", \"2015-06-01 04:00:00\", \"2015-07-01 04:00:00\", \"2015-08-01 04:00:00\", \"2015-09-01 04:00:00\", \"2015-10-01 04:00:00\", \"2015-11-01 04:00:00\", \"2015-12-01 05:00:00\", \"2016-01-01 05:00:00\", \"2016-02-01 05:00:00\", \"2016-03-01 05:00:00\", \"2016-04-01 04:00:00\", \"2016-05-01 04:00:00\", \"2016-06-01 04:00:00\", \"2016-07-01 04:00:00\", \"2016-08-01 04:00:00\", \"2016-09-01 04:00:00\", \"2016-10-01 04:00:00\", \"2016-11-01 04:00:00\", \"2016-12-01 05:00:00\", \"2017-01-01 05:00:00\", \"2017-02-01 05:00:00\", \"2017-03-01 05:00:00\", \"2017-04-01 04:00:00\", \"2017-05-01 04:00:00\", \"2017-06-01 04:00:00\", \"2017-07-01 04:00:00\", \"2017-08-01 04:00:00\", \"2017-09-01 04:00:00\", \"2017-10-01 04:00:00\", \"2017-11-01 04:00:00\", \"2017-12-01 05:00:00\", \"2018-01-01 05:00:00\", \"2018-02-01 05:00:00\"], \"y\": [8, 2, 7, 10, 18, 28, 19, 29, 36, 38, 31, 48, 18, 23, 37, 58, 58, 94, 79, 110, 126, 121, 126, 132, 165, 144, 198, 242, 352, 431, 345, 407, 399, 431, 476, 481, 617, 533, 526, 608, 733, 918, 1104, 1393, 1376, 1494, 1532, 1582, 2343, 1711, 1636, 2005, 2938, 3314, 4102, 4188, 4977, 4410, 5371, 7222, 9403, 9605, 8110, 8271, 8761, 9168, 9930, 12363, 13638, 13878, 13695, 12930, 10170, 34, 1], \"type\": \"scatter\", \"uid\": \"94f1e089-e29d-47cf-94ec-0329ead132c1\"}, {\"name\": \"test\", \"x\": [\"2011-11-01 04:00:00\", \"2011-12-01 05:00:00\", \"2012-01-01 05:00:00\", \"2012-02-01 05:00:00\", \"2012-03-01 05:00:00\", \"2012-04-01 04:00:00\", \"2012-05-01 04:00:00\", \"2012-06-01 04:00:00\", \"2012-07-01 04:00:00\", \"2012-08-01 04:00:00\", \"2012-09-01 04:00:00\", \"2012-10-01 04:00:00\", \"2012-11-01 04:00:00\", \"2012-12-01 05:00:00\", \"2013-01-01 05:00:00\", \"2013-02-01 05:00:00\", \"2013-03-01 05:00:00\", \"2013-04-01 04:00:00\", \"2013-05-01 04:00:00\", \"2013-06-01 04:00:00\", \"2013-07-01 04:00:00\", \"2013-08-01 04:00:00\", \"2013-09-01 04:00:00\", \"2013-10-01 04:00:00\", \"2013-11-01 04:00:00\", \"2013-12-01 05:00:00\", \"2014-01-01 05:00:00\", \"2014-02-01 05:00:00\", \"2014-03-01 05:00:00\", \"2014-04-01 04:00:00\", \"2014-05-01 04:00:00\", \"2014-06-01 04:00:00\", \"2014-07-01 04:00:00\", \"2014-08-01 04:00:00\", \"2014-09-01 04:00:00\", \"2014-10-01 04:00:00\", \"2014-11-01 04:00:00\", \"2014-12-01 05:00:00\", \"2015-01-01 05:00:00\", \"2015-02-01 05:00:00\", \"2015-03-01 05:00:00\", \"2015-04-01 04:00:00\", \"2015-05-01 04:00:00\", \"2015-06-01 04:00:00\", \"2015-07-01 04:00:00\", \"2015-08-01 04:00:00\", \"2015-09-01 04:00:00\", \"2015-10-01 04:00:00\", \"2015-11-01 04:00:00\", \"2015-12-01 05:00:00\", \"2016-01-01 05:00:00\", \"2016-02-01 05:00:00\", \"2016-03-01 05:00:00\", \"2016-04-01 04:00:00\", \"2016-05-01 04:00:00\", \"2016-06-01 04:00:00\", \"2016-07-01 04:00:00\", \"2016-08-01 04:00:00\", \"2016-09-01 04:00:00\", \"2016-10-01 04:00:00\", \"2016-11-01 04:00:00\", \"2016-12-01 05:00:00\", \"2017-01-01 05:00:00\", \"2017-02-01 05:00:00\", \"2017-03-01 05:00:00\", \"2017-04-01 04:00:00\", \"2017-05-01 04:00:00\", \"2017-06-01 04:00:00\", \"2017-07-01 04:00:00\", \"2017-08-01 04:00:00\", \"2017-09-01 04:00:00\", \"2017-10-01 04:00:00\", \"2017-11-01 04:00:00\", \"2017-12-01 05:00:00\", \"2018-01-01 05:00:00\"], \"y\": [3, 2, 1, 4, 10, 11, 12, 14, 15, 21, 18, 13, 18, 16, 14, 28, 34, 40, 44, 56, 72, 73, 75, 80, 80, 95, 90, 97, 141, 209, 263, 220, 236, 265, 257, 291, 296, 390, 279, 335, 397, 433, 604, 711, 862, 882, 818, 936, 955, 1393, 996, 987, 1258, 1740, 2096, 2407, 2610, 3108, 2663, 3335, 4444, 5751, 5974, 4903, 5058, 5371, 5598, 6147, 7344, 8299, 8805, 8451, 7807, 6233, 28], \"type\": \"scatter\", \"uid\": \"9f42613e-7a08-4257-ac43-2b02bbaa50c8\"}], {\"legend\": {\"orientation\": \"v\"}, \"title\": {\"text\": \"Counts of first active\"}, \"xaxis\": {\"title\": {\"text\": \"Month\"}}, \"yaxis\": {\"title\": {\"text\": \"Count\"}}}, {\"showLink\": false, \"linkText\": \"Export to plot.ly\", \"plotlyServerURL\": \"https://plot.ly\"}); \n",
       "}\n",
       "});</script><script type=\"text/javascript\">window.addEventListener(\"resize\", function(){if (document.getElementById(\"7b3cddfd-a839-4e74-83b1-1c8db87c27ee\")) {window._Plotly.Plots.resize(document.getElementById(\"7b3cddfd-a839-4e74-83b1-1c8db87c27ee\"));};})</script>"
      ]
     },
     "metadata": {},
     "output_type": "display_data"
    }
   ],
   "source": [
    "d1 = train_df['first_active_month'].value_counts().sort_index()\n",
    "d2 = test_df['first_active_month'].value_counts().sort_index()\n",
    "data = [go.Scatter(x=d1.index, y=d1.values, name='train'), go.Scatter(x=d2.index, y=d2.values, name='test')]\n",
    "layout = go.Layout(dict(title = \"Counts of first active\",xaxis = dict(title = 'Month'), yaxis = dict(title = 'Count'),\n",
    "                  ),legend=dict(orientation=\"v\"))\n",
    "py.iplot(dict(data=data, layout=layout))"
   ]
  },
  {
   "cell_type": "markdown",
   "metadata": {},
   "source": [
    "__Trends of counts for train and test data are similar, and this is great. Why there is such a sharp decline at the end of the period? I think it was on purpose. Or maybe new cards are taken into account only after fulfilling some conditions.__"
   ]
  },
  {
   "cell_type": "code",
   "execution_count": 69,
   "metadata": {},
   "outputs": [],
   "source": [
    "# Created a elapsed time column for each id in train set:\n",
    "\n",
    "import datetime\n",
    "def read_data(input_file):\n",
    "    df = pd.read_csv(input_file)\n",
    "    df['first_active_month'] = pd.to_datetime(df['first_active_month'])\n",
    "    df['year'] = df['first_active_month'].dt.year\n",
    "    df['month'] = df['first_active_month'].dt.month\n",
    "    df['elapsed_time'] = (datetime.date(2018, 2, 1) - df['first_active_month'].dt.date).dt.days\n",
    "    return df\n",
    "train_df = read_data('train.csv')\n",
    "test_df = read_data('test.csv')\n",
    "\n",
    "target = train_df['target']\n"
   ]
  },
  {
   "cell_type": "code",
   "execution_count": 70,
   "metadata": {},
   "outputs": [
    {
     "data": {
      "text/html": [
       "<div>\n",
       "<style scoped>\n",
       "    .dataframe tbody tr th:only-of-type {\n",
       "        vertical-align: middle;\n",
       "    }\n",
       "\n",
       "    .dataframe tbody tr th {\n",
       "        vertical-align: top;\n",
       "    }\n",
       "\n",
       "    .dataframe thead th {\n",
       "        text-align: right;\n",
       "    }\n",
       "</style>\n",
       "<table border=\"1\" class=\"dataframe\">\n",
       "  <thead>\n",
       "    <tr style=\"text-align: right;\">\n",
       "      <th></th>\n",
       "      <th>feature_1</th>\n",
       "      <th>feature_2</th>\n",
       "      <th>feature_3</th>\n",
       "      <th>target</th>\n",
       "      <th>year</th>\n",
       "      <th>month</th>\n",
       "      <th>elapsed_time</th>\n",
       "    </tr>\n",
       "  </thead>\n",
       "  <tbody>\n",
       "    <tr>\n",
       "      <th>feature_1</th>\n",
       "      <td>1.000000</td>\n",
       "      <td>-0.130969</td>\n",
       "      <td>0.583092</td>\n",
       "      <td>-0.014251</td>\n",
       "      <td>-0.115267</td>\n",
       "      <td>-0.012128</td>\n",
       "      <td>0.117144</td>\n",
       "    </tr>\n",
       "    <tr>\n",
       "      <th>feature_2</th>\n",
       "      <td>-0.130969</td>\n",
       "      <td>1.000000</td>\n",
       "      <td>0.060925</td>\n",
       "      <td>-0.006242</td>\n",
       "      <td>-0.151782</td>\n",
       "      <td>-0.027170</td>\n",
       "      <td>0.158150</td>\n",
       "    </tr>\n",
       "    <tr>\n",
       "      <th>feature_3</th>\n",
       "      <td>0.583092</td>\n",
       "      <td>0.060925</td>\n",
       "      <td>1.000000</td>\n",
       "      <td>-0.008125</td>\n",
       "      <td>-0.194084</td>\n",
       "      <td>-0.016784</td>\n",
       "      <td>0.196046</td>\n",
       "    </tr>\n",
       "    <tr>\n",
       "      <th>target</th>\n",
       "      <td>-0.014251</td>\n",
       "      <td>-0.006242</td>\n",
       "      <td>-0.008125</td>\n",
       "      <td>1.000000</td>\n",
       "      <td>0.040341</td>\n",
       "      <td>0.031512</td>\n",
       "      <td>-0.050453</td>\n",
       "    </tr>\n",
       "    <tr>\n",
       "      <th>year</th>\n",
       "      <td>-0.115267</td>\n",
       "      <td>-0.151782</td>\n",
       "      <td>-0.194084</td>\n",
       "      <td>0.040341</td>\n",
       "      <td>1.000000</td>\n",
       "      <td>-0.119644</td>\n",
       "      <td>-0.938988</td>\n",
       "    </tr>\n",
       "    <tr>\n",
       "      <th>month</th>\n",
       "      <td>-0.012128</td>\n",
       "      <td>-0.027170</td>\n",
       "      <td>-0.016784</td>\n",
       "      <td>0.031512</td>\n",
       "      <td>-0.119644</td>\n",
       "      <td>1.000000</td>\n",
       "      <td>-0.229130</td>\n",
       "    </tr>\n",
       "    <tr>\n",
       "      <th>elapsed_time</th>\n",
       "      <td>0.117144</td>\n",
       "      <td>0.158150</td>\n",
       "      <td>0.196046</td>\n",
       "      <td>-0.050453</td>\n",
       "      <td>-0.938988</td>\n",
       "      <td>-0.229130</td>\n",
       "      <td>1.000000</td>\n",
       "    </tr>\n",
       "  </tbody>\n",
       "</table>\n",
       "</div>"
      ],
      "text/plain": [
       "              feature_1  feature_2  feature_3    target      year     month  \\\n",
       "feature_1      1.000000  -0.130969   0.583092 -0.014251 -0.115267 -0.012128   \n",
       "feature_2     -0.130969   1.000000   0.060925 -0.006242 -0.151782 -0.027170   \n",
       "feature_3      0.583092   0.060925   1.000000 -0.008125 -0.194084 -0.016784   \n",
       "target        -0.014251  -0.006242  -0.008125  1.000000  0.040341  0.031512   \n",
       "year          -0.115267  -0.151782  -0.194084  0.040341  1.000000 -0.119644   \n",
       "month         -0.012128  -0.027170  -0.016784  0.031512 -0.119644  1.000000   \n",
       "elapsed_time   0.117144   0.158150   0.196046 -0.050453 -0.938988 -0.229130   \n",
       "\n",
       "              elapsed_time  \n",
       "feature_1         0.117144  \n",
       "feature_2         0.158150  \n",
       "feature_3         0.196046  \n",
       "target           -0.050453  \n",
       "year             -0.938988  \n",
       "month            -0.229130  \n",
       "elapsed_time      1.000000  "
      ]
     },
     "execution_count": 70,
     "metadata": {},
     "output_type": "execute_result"
    }
   ],
   "source": [
    "# Forming the corelation Matrix of train_df\n",
    "train_df.corr()"
   ]
  },
  {
   "cell_type": "code",
   "execution_count": 71,
   "metadata": {},
   "outputs": [
    {
     "data": {
      "text/plain": [
       "<matplotlib.axes._subplots.AxesSubplot at 0x1a21932b70>"
      ]
     },
     "execution_count": 71,
     "metadata": {},
     "output_type": "execute_result"
    },
    {
     "data": {
      "image/png": "[encoded data removed]",
      "text/plain": [
       "<Figure size 432x288 with 2 Axes>"
      ]
     },
     "metadata": {
      "needs_background": "light"
     },
     "output_type": "display_data"
    }
   ],
   "source": [
    "# Forming the corelation Matrix of train_df\n",
    "\n",
    "train_df.corr()\n",
    "cmap = sns.diverging_palette(220, 10, as_cmap=True)\n",
    "sns.heatmap(train_df.corr(),cmap=cmap, vmax=.3, square=True, linewidths=.5, cbar_kws={\"shrink\": .5})"
   ]
  },
  {
   "cell_type": "markdown",
   "metadata": {},
   "source": [
    "__The correlations between the target and any of the features are quite low, but the features 1 and 3 are somewhat decently correlated. Let's take a look at the scatter plots:__"
   ]
  },
  {
   "cell_type": "code",
   "execution_count": 72,
   "metadata": {},
   "outputs": [
    {
     "data": {
      "image/png": "[encoded data removed]",
      "text/plain": [
       "<Figure size 720x720 with 16 Axes>"
      ]
     },
     "metadata": {
      "needs_background": "light"
     },
     "output_type": "display_data"
    }
   ],
   "source": [
    "from pandas.plotting import scatter_matrix\n",
    "select_cols = ['feature_1', 'feature_2', 'feature_3', 'target']\n",
    "scatter_matrix(train_df[select_cols], figsize=[10,10], color = 'red')\n",
    "plt.suptitle('Pair-wise scatter plots for columns in train', fontsize=15)\n",
    "plt.show()\n"
   ]
  },
  {
   "cell_type": "markdown",
   "metadata": {},
   "source": [
    "__Again, not a lot of useful information. The only thing I can see is different target variances for different values of the feature_1 , but it's most likely due to the different amount of data corresponding to each feature.__"
   ]
  },
  {
   "cell_type": "code",
   "execution_count": 73,
   "metadata": {},
   "outputs": [],
   "source": [
    "\n",
    "del train_df['target']"
   ]
  },
  {
   "cell_type": "code",
   "execution_count": 74,
   "metadata": {},
   "outputs": [
    {
     "data": {
      "text/html": [
       "<div>\n",
       "<style scoped>\n",
       "    .dataframe tbody tr th:only-of-type {\n",
       "        vertical-align: middle;\n",
       "    }\n",
       "\n",
       "    .dataframe tbody tr th {\n",
       "        vertical-align: top;\n",
       "    }\n",
       "\n",
       "    .dataframe thead th {\n",
       "        text-align: right;\n",
       "    }\n",
       "</style>\n",
       "<table border=\"1\" class=\"dataframe\">\n",
       "  <thead>\n",
       "    <tr style=\"text-align: right;\">\n",
       "      <th></th>\n",
       "      <th>first_active_month</th>\n",
       "      <th>card_id</th>\n",
       "      <th>feature_1</th>\n",
       "      <th>feature_2</th>\n",
       "      <th>feature_3</th>\n",
       "      <th>year</th>\n",
       "      <th>month</th>\n",
       "      <th>elapsed_time</th>\n",
       "    </tr>\n",
       "  </thead>\n",
       "  <tbody>\n",
       "    <tr>\n",
       "      <th>0</th>\n",
       "      <td>2017-06-01</td>\n",
       "      <td>C_ID_92a2005557</td>\n",
       "      <td>5</td>\n",
       "      <td>2</td>\n",
       "      <td>1</td>\n",
       "      <td>2017</td>\n",
       "      <td>6</td>\n",
       "      <td>245</td>\n",
       "    </tr>\n",
       "    <tr>\n",
       "      <th>1</th>\n",
       "      <td>2017-01-01</td>\n",
       "      <td>C_ID_3d0044924f</td>\n",
       "      <td>4</td>\n",
       "      <td>1</td>\n",
       "      <td>0</td>\n",
       "      <td>2017</td>\n",
       "      <td>1</td>\n",
       "      <td>396</td>\n",
       "    </tr>\n",
       "    <tr>\n",
       "      <th>2</th>\n",
       "      <td>2016-08-01</td>\n",
       "      <td>C_ID_d639edf6cd</td>\n",
       "      <td>2</td>\n",
       "      <td>2</td>\n",
       "      <td>0</td>\n",
       "      <td>2016</td>\n",
       "      <td>8</td>\n",
       "      <td>549</td>\n",
       "    </tr>\n",
       "    <tr>\n",
       "      <th>3</th>\n",
       "      <td>2017-09-01</td>\n",
       "      <td>C_ID_186d6a6901</td>\n",
       "      <td>4</td>\n",
       "      <td>3</td>\n",
       "      <td>0</td>\n",
       "      <td>2017</td>\n",
       "      <td>9</td>\n",
       "      <td>153</td>\n",
       "    </tr>\n",
       "    <tr>\n",
       "      <th>4</th>\n",
       "      <td>2017-11-01</td>\n",
       "      <td>C_ID_cdbd2c0db2</td>\n",
       "      <td>1</td>\n",
       "      <td>3</td>\n",
       "      <td>0</td>\n",
       "      <td>2017</td>\n",
       "      <td>11</td>\n",
       "      <td>92</td>\n",
       "    </tr>\n",
       "  </tbody>\n",
       "</table>\n",
       "</div>"
      ],
      "text/plain": [
       "  first_active_month          card_id  feature_1  feature_2  feature_3  year  \\\n",
       "0         2017-06-01  C_ID_92a2005557          5          2          1  2017   \n",
       "1         2017-01-01  C_ID_3d0044924f          4          1          0  2017   \n",
       "2         2016-08-01  C_ID_d639edf6cd          2          2          0  2016   \n",
       "3         2017-09-01  C_ID_186d6a6901          4          3          0  2017   \n",
       "4         2017-11-01  C_ID_cdbd2c0db2          1          3          0  2017   \n",
       "\n",
       "   month  elapsed_time  \n",
       "0      6           245  \n",
       "1      1           396  \n",
       "2      8           549  \n",
       "3      9           153  \n",
       "4     11            92  "
      ]
     },
     "execution_count": 74,
     "metadata": {},
     "output_type": "execute_result"
    }
   ],
   "source": [
    "train_df.head()"
   ]
  },
  {
   "cell_type": "code",
   "execution_count": 75,
   "metadata": {},
   "outputs": [
    {
     "name": "stdout",
     "output_type": "stream",
     "text": [
      "shape of merchant :  (334696, 22)\n"
     ]
    }
   ],
   "source": [
    "# Import old Merchant data\n",
    "\n",
    "merchant_df = pd.read_csv(\"merchants.csv\")\n",
    "print(\"shape of merchant : \",merchant_df.shape)"
   ]
  },
  {
   "cell_type": "markdown",
   "metadata": {},
   "source": [
    "__Therea are total 334,696 rows and 22 columns in the old mercahnt dataset.__"
   ]
  },
  {
   "cell_type": "code",
   "execution_count": 76,
   "metadata": {},
   "outputs": [
    {
     "data": {
      "text/html": [
       "<div>\n",
       "<style scoped>\n",
       "    .dataframe tbody tr th:only-of-type {\n",
       "        vertical-align: middle;\n",
       "    }\n",
       "\n",
       "    .dataframe tbody tr th {\n",
       "        vertical-align: top;\n",
       "    }\n",
       "\n",
       "    .dataframe thead th {\n",
       "        text-align: right;\n",
       "    }\n",
       "</style>\n",
       "<table border=\"1\" class=\"dataframe\">\n",
       "  <thead>\n",
       "    <tr style=\"text-align: right;\">\n",
       "      <th></th>\n",
       "      <th>merchant_id</th>\n",
       "      <th>merchant_group_id</th>\n",
       "      <th>merchant_category_id</th>\n",
       "      <th>subsector_id</th>\n",
       "      <th>numerical_1</th>\n",
       "      <th>numerical_2</th>\n",
       "      <th>category_1</th>\n",
       "      <th>most_recent_sales_range</th>\n",
       "      <th>most_recent_purchases_range</th>\n",
       "      <th>avg_sales_lag3</th>\n",
       "      <th>...</th>\n",
       "      <th>avg_sales_lag6</th>\n",
       "      <th>avg_purchases_lag6</th>\n",
       "      <th>active_months_lag6</th>\n",
       "      <th>avg_sales_lag12</th>\n",
       "      <th>avg_purchases_lag12</th>\n",
       "      <th>active_months_lag12</th>\n",
       "      <th>category_4</th>\n",
       "      <th>city_id</th>\n",
       "      <th>state_id</th>\n",
       "      <th>category_2</th>\n",
       "    </tr>\n",
       "  </thead>\n",
       "  <tbody>\n",
       "    <tr>\n",
       "      <th>0</th>\n",
       "      <td>M_ID_838061e48c</td>\n",
       "      <td>8353</td>\n",
       "      <td>792</td>\n",
       "      <td>9</td>\n",
       "      <td>-0.057471</td>\n",
       "      <td>-0.057471</td>\n",
       "      <td>N</td>\n",
       "      <td>E</td>\n",
       "      <td>E</td>\n",
       "      <td>-0.40</td>\n",
       "      <td>...</td>\n",
       "      <td>-2.25</td>\n",
       "      <td>18.666667</td>\n",
       "      <td>6</td>\n",
       "      <td>-2.32</td>\n",
       "      <td>13.916667</td>\n",
       "      <td>12</td>\n",
       "      <td>N</td>\n",
       "      <td>242</td>\n",
       "      <td>9</td>\n",
       "      <td>1.0</td>\n",
       "    </tr>\n",
       "    <tr>\n",
       "      <th>1</th>\n",
       "      <td>M_ID_9339d880ad</td>\n",
       "      <td>3184</td>\n",
       "      <td>840</td>\n",
       "      <td>20</td>\n",
       "      <td>-0.057471</td>\n",
       "      <td>-0.057471</td>\n",
       "      <td>N</td>\n",
       "      <td>E</td>\n",
       "      <td>E</td>\n",
       "      <td>-0.72</td>\n",
       "      <td>...</td>\n",
       "      <td>-0.74</td>\n",
       "      <td>1.291667</td>\n",
       "      <td>6</td>\n",
       "      <td>-0.57</td>\n",
       "      <td>1.687500</td>\n",
       "      <td>12</td>\n",
       "      <td>N</td>\n",
       "      <td>22</td>\n",
       "      <td>16</td>\n",
       "      <td>1.0</td>\n",
       "    </tr>\n",
       "    <tr>\n",
       "      <th>2</th>\n",
       "      <td>M_ID_e726bbae1e</td>\n",
       "      <td>447</td>\n",
       "      <td>690</td>\n",
       "      <td>1</td>\n",
       "      <td>-0.057471</td>\n",
       "      <td>-0.057471</td>\n",
       "      <td>N</td>\n",
       "      <td>E</td>\n",
       "      <td>E</td>\n",
       "      <td>-82.13</td>\n",
       "      <td>...</td>\n",
       "      <td>-82.13</td>\n",
       "      <td>260.000000</td>\n",
       "      <td>2</td>\n",
       "      <td>-82.13</td>\n",
       "      <td>260.000000</td>\n",
       "      <td>2</td>\n",
       "      <td>N</td>\n",
       "      <td>-1</td>\n",
       "      <td>5</td>\n",
       "      <td>5.0</td>\n",
       "    </tr>\n",
       "    <tr>\n",
       "      <th>3</th>\n",
       "      <td>M_ID_a70e9c5f81</td>\n",
       "      <td>5026</td>\n",
       "      <td>792</td>\n",
       "      <td>9</td>\n",
       "      <td>-0.057471</td>\n",
       "      <td>-0.057471</td>\n",
       "      <td>Y</td>\n",
       "      <td>E</td>\n",
       "      <td>E</td>\n",
       "      <td>NaN</td>\n",
       "      <td>...</td>\n",
       "      <td>NaN</td>\n",
       "      <td>4.666667</td>\n",
       "      <td>6</td>\n",
       "      <td>NaN</td>\n",
       "      <td>3.833333</td>\n",
       "      <td>12</td>\n",
       "      <td>Y</td>\n",
       "      <td>-1</td>\n",
       "      <td>-1</td>\n",
       "      <td>NaN</td>\n",
       "    </tr>\n",
       "    <tr>\n",
       "      <th>4</th>\n",
       "      <td>M_ID_64456c37ce</td>\n",
       "      <td>2228</td>\n",
       "      <td>222</td>\n",
       "      <td>21</td>\n",
       "      <td>-0.057471</td>\n",
       "      <td>-0.057471</td>\n",
       "      <td>Y</td>\n",
       "      <td>E</td>\n",
       "      <td>E</td>\n",
       "      <td>NaN</td>\n",
       "      <td>...</td>\n",
       "      <td>NaN</td>\n",
       "      <td>0.361111</td>\n",
       "      <td>6</td>\n",
       "      <td>NaN</td>\n",
       "      <td>0.347222</td>\n",
       "      <td>12</td>\n",
       "      <td>Y</td>\n",
       "      <td>-1</td>\n",
       "      <td>-1</td>\n",
       "      <td>NaN</td>\n",
       "    </tr>\n",
       "  </tbody>\n",
       "</table>\n",
       "<p>5 rows × 22 columns</p>\n",
       "</div>"
      ],
      "text/plain": [
       "       merchant_id  merchant_group_id  merchant_category_id  subsector_id  \\\n",
       "0  M_ID_838061e48c               8353                   792             9   \n",
       "1  M_ID_9339d880ad               3184                   840            20   \n",
       "2  M_ID_e726bbae1e                447                   690             1   \n",
       "3  M_ID_a70e9c5f81               5026                   792             9   \n",
       "4  M_ID_64456c37ce               2228                   222            21   \n",
       "\n",
       "   numerical_1  numerical_2 category_1 most_recent_sales_range  \\\n",
       "0    -0.057471    -0.057471          N                       E   \n",
       "1    -0.057471    -0.057471          N                       E   \n",
       "2    -0.057471    -0.057471          N                       E   \n",
       "3    -0.057471    -0.057471          Y                       E   \n",
       "4    -0.057471    -0.057471          Y                       E   \n",
       "\n",
       "  most_recent_purchases_range  avg_sales_lag3     ...      avg_sales_lag6  \\\n",
       "0                           E           -0.40     ...               -2.25   \n",
       "1                           E           -0.72     ...               -0.74   \n",
       "2                           E          -82.13     ...              -82.13   \n",
       "3                           E             NaN     ...                 NaN   \n",
       "4                           E             NaN     ...                 NaN   \n",
       "\n",
       "   avg_purchases_lag6  active_months_lag6  avg_sales_lag12  \\\n",
       "0           18.666667                   6            -2.32   \n",
       "1            1.291667                   6            -0.57   \n",
       "2          260.000000                   2           -82.13   \n",
       "3            4.666667                   6              NaN   \n",
       "4            0.361111                   6              NaN   \n",
       "\n",
       "   avg_purchases_lag12  active_months_lag12  category_4  city_id state_id  \\\n",
       "0            13.916667                   12           N      242        9   \n",
       "1             1.687500                   12           N       22       16   \n",
       "2           260.000000                    2           N       -1        5   \n",
       "3             3.833333                   12           Y       -1       -1   \n",
       "4             0.347222                   12           Y       -1       -1   \n",
       "\n",
       "   category_2  \n",
       "0         1.0  \n",
       "1         1.0  \n",
       "2         5.0  \n",
       "3         NaN  \n",
       "4         NaN  \n",
       "\n",
       "[5 rows x 22 columns]"
      ]
     },
     "execution_count": 76,
     "metadata": {},
     "output_type": "execute_result"
    }
   ],
   "source": [
    "merchant_df.head()"
   ]
  },
  {
   "cell_type": "code",
   "execution_count": 77,
   "metadata": {},
   "outputs": [
    {
     "data": {
      "text/html": [
       "<div>\n",
       "<style scoped>\n",
       "    .dataframe tbody tr th:only-of-type {\n",
       "        vertical-align: middle;\n",
       "    }\n",
       "\n",
       "    .dataframe tbody tr th {\n",
       "        vertical-align: top;\n",
       "    }\n",
       "\n",
       "    .dataframe thead th {\n",
       "        text-align: right;\n",
       "    }\n",
       "</style>\n",
       "<table border=\"1\" class=\"dataframe\">\n",
       "  <thead>\n",
       "    <tr style=\"text-align: right;\">\n",
       "      <th></th>\n",
       "      <th>Total</th>\n",
       "      <th>Percent</th>\n",
       "    </tr>\n",
       "  </thead>\n",
       "  <tbody>\n",
       "    <tr>\n",
       "      <th>category_2</th>\n",
       "      <td>11887</td>\n",
       "      <td>3.551581</td>\n",
       "    </tr>\n",
       "    <tr>\n",
       "      <th>avg_sales_lag3</th>\n",
       "      <td>13</td>\n",
       "      <td>0.003884</td>\n",
       "    </tr>\n",
       "    <tr>\n",
       "      <th>avg_sales_lag12</th>\n",
       "      <td>13</td>\n",
       "      <td>0.003884</td>\n",
       "    </tr>\n",
       "    <tr>\n",
       "      <th>avg_sales_lag6</th>\n",
       "      <td>13</td>\n",
       "      <td>0.003884</td>\n",
       "    </tr>\n",
       "    <tr>\n",
       "      <th>merchant_group_id</th>\n",
       "      <td>0</td>\n",
       "      <td>0.000000</td>\n",
       "    </tr>\n",
       "    <tr>\n",
       "      <th>merchant_category_id</th>\n",
       "      <td>0</td>\n",
       "      <td>0.000000</td>\n",
       "    </tr>\n",
       "    <tr>\n",
       "      <th>subsector_id</th>\n",
       "      <td>0</td>\n",
       "      <td>0.000000</td>\n",
       "    </tr>\n",
       "    <tr>\n",
       "      <th>numerical_1</th>\n",
       "      <td>0</td>\n",
       "      <td>0.000000</td>\n",
       "    </tr>\n",
       "    <tr>\n",
       "      <th>numerical_2</th>\n",
       "      <td>0</td>\n",
       "      <td>0.000000</td>\n",
       "    </tr>\n",
       "    <tr>\n",
       "      <th>category_1</th>\n",
       "      <td>0</td>\n",
       "      <td>0.000000</td>\n",
       "    </tr>\n",
       "    <tr>\n",
       "      <th>most_recent_sales_range</th>\n",
       "      <td>0</td>\n",
       "      <td>0.000000</td>\n",
       "    </tr>\n",
       "    <tr>\n",
       "      <th>most_recent_purchases_range</th>\n",
       "      <td>0</td>\n",
       "      <td>0.000000</td>\n",
       "    </tr>\n",
       "    <tr>\n",
       "      <th>avg_purchases_lag3</th>\n",
       "      <td>0</td>\n",
       "      <td>0.000000</td>\n",
       "    </tr>\n",
       "    <tr>\n",
       "      <th>state_id</th>\n",
       "      <td>0</td>\n",
       "      <td>0.000000</td>\n",
       "    </tr>\n",
       "    <tr>\n",
       "      <th>active_months_lag3</th>\n",
       "      <td>0</td>\n",
       "      <td>0.000000</td>\n",
       "    </tr>\n",
       "    <tr>\n",
       "      <th>avg_purchases_lag6</th>\n",
       "      <td>0</td>\n",
       "      <td>0.000000</td>\n",
       "    </tr>\n",
       "    <tr>\n",
       "      <th>active_months_lag6</th>\n",
       "      <td>0</td>\n",
       "      <td>0.000000</td>\n",
       "    </tr>\n",
       "    <tr>\n",
       "      <th>avg_purchases_lag12</th>\n",
       "      <td>0</td>\n",
       "      <td>0.000000</td>\n",
       "    </tr>\n",
       "    <tr>\n",
       "      <th>active_months_lag12</th>\n",
       "      <td>0</td>\n",
       "      <td>0.000000</td>\n",
       "    </tr>\n",
       "    <tr>\n",
       "      <th>category_4</th>\n",
       "      <td>0</td>\n",
       "      <td>0.000000</td>\n",
       "    </tr>\n",
       "  </tbody>\n",
       "</table>\n",
       "</div>"
      ],
      "text/plain": [
       "                             Total   Percent\n",
       "category_2                   11887  3.551581\n",
       "avg_sales_lag3                  13  0.003884\n",
       "avg_sales_lag12                 13  0.003884\n",
       "avg_sales_lag6                  13  0.003884\n",
       "merchant_group_id                0  0.000000\n",
       "merchant_category_id             0  0.000000\n",
       "subsector_id                     0  0.000000\n",
       "numerical_1                      0  0.000000\n",
       "numerical_2                      0  0.000000\n",
       "category_1                       0  0.000000\n",
       "most_recent_sales_range          0  0.000000\n",
       "most_recent_purchases_range      0  0.000000\n",
       "avg_purchases_lag3               0  0.000000\n",
       "state_id                         0  0.000000\n",
       "active_months_lag3               0  0.000000\n",
       "avg_purchases_lag6               0  0.000000\n",
       "active_months_lag6               0  0.000000\n",
       "avg_purchases_lag12              0  0.000000\n",
       "active_months_lag12              0  0.000000\n",
       "category_4                       0  0.000000"
      ]
     },
     "execution_count": 77,
     "metadata": {},
     "output_type": "execute_result"
    }
   ],
   "source": [
    "# checking missing data for old merchant dataset\n",
    "\n",
    "total = merchant_df.isnull().sum().sort_values(ascending = False)\n",
    "percent = (merchant_df.isnull().sum()/merchant_df.isnull().count()*100).sort_values(ascending = False)\n",
    "missing_data  = pd.concat([total, percent], axis=1, keys=['Total', 'Percent'])\n",
    "missing_data.head(20)"
   ]
  },
  {
   "cell_type": "markdown",
   "metadata": {},
   "source": [
    "__The merchant clumn have columns like merchant id average purchase and sales lag, active months and other information about merchants.__"
   ]
  },
  {
   "cell_type": "markdown",
   "metadata": {},
   "source": [
    "Lets explore the variables in old merchant data"
   ]
  },
  {
   "cell_type": "code",
   "execution_count": 78,
   "metadata": {},
   "outputs": [],
   "source": [
    "Mer = merchant_df.loc[(merchant_df['numerical_1'] < 0.1) &\n",
    "                               (merchant_df['numerical_2'] < 0.1) &\n",
    "                               (merchant_df['avg_sales_lag3'] < 5) &\n",
    "                               (merchant_df['avg_purchases_lag3'] < 5) &\n",
    "                               (merchant_df['avg_sales_lag6'] < 10) &\n",
    "                               (merchant_df['avg_purchases_lag6'] < 10) &\n",
    "                               (merchant_df['avg_sales_lag12'] < 10) &\n",
    "                               (merchant_df['avg_purchases_lag12'] < 10)]"
   ]
  },
  {
   "cell_type": "code",
   "execution_count": 79,
   "metadata": {},
   "outputs": [
    {
     "data": {
      "image/png": "[encoded data removed]",
      "text/plain": [
       "<Figure size 1080x1080 with 14 Axes>"
      ]
     },
     "metadata": {
      "needs_background": "light"
     },
     "output_type": "display_data"
    }
   ],
   "source": [
    "cat_cols = ['active_months_lag6','active_months_lag3','active_months_lag12','category_4']\n",
    "num_cols = ['numerical_1', 'numerical_2','merchant_group_id','merchant_category_id','avg_sales_lag3', 'avg_purchases_lag3', 'avg_sales_lag6', 'avg_purchases_lag6', 'avg_sales_lag12', 'avg_purchases_lag12']\n",
    "\n",
    "plt.figure(figsize=[15, 15])\n",
    "plt.suptitle('Merchants table histograms', y=1.02, fontsize=20)\n",
    "ncols = 4\n",
    "nrows = int(np.ceil((len(cat_cols) + len(num_cols))/4))\n",
    "last_ind = 0\n",
    "for col in sorted(list(Mer.columns)):\n",
    "    #print('processing column ' + col)\n",
    "    if col in cat_cols:\n",
    "        last_ind += 1\n",
    "        plt.subplot(nrows, ncols, last_ind)\n",
    "        vc = Mer[col].value_counts()\n",
    "        x = np.array(vc.index)\n",
    "        y = vc.values\n",
    "        inds = np.argsort(x)\n",
    "        x = x[inds].astype(str)\n",
    "        y = y[inds]\n",
    "        plt.bar(x, y, color=('lightblue'))\n",
    "        plt.title(col, fontsize=15)\n",
    "    if col in num_cols:\n",
    "        last_ind += 1\n",
    "        plt.subplot(nrows, ncols, last_ind)\n",
    "        Mer[col].hist(bins = 50, color=('lightblue'))\n",
    "        plt.title(col, fontsize=15)\n",
    "    plt.tight_layout()"
   ]
  },
  {
   "cell_type": "markdown",
   "metadata": {},
   "source": [
    "#### From the histograms we can see several things:\n",
    "\n",
    "merchant_group_ids are sorted in the descending order. <br>\n",
    "\n",
    "numerical_1 and numerical_2 seem to represent more of a categorical value as they take a discrete set of values <br>"
   ]
  },
  {
   "cell_type": "code",
   "execution_count": 80,
   "metadata": {},
   "outputs": [
    {
     "data": {
      "image/png": "[encoded data removed]",
      "text/plain": [
       "<Figure size 432x432 with 1 Axes>"
      ]
     },
     "metadata": {
      "needs_background": "light"
     },
     "output_type": "display_data"
    }
   ],
   "source": [
    "# Values count for category 1 in old merchant data\n",
    "\n",
    "temp = merchant_df[\"category_1\"].value_counts()\n",
    "df = pd.DataFrame({'labels': temp.index,\n",
    "                   'values': temp.values\n",
    "                  })\n",
    "plt.figure(figsize = (6,6))\n",
    "plt.title('category_1 in merchant')\n",
    "sns.set_color_codes(\"pastel\")\n",
    "sns.barplot(x = 'labels', y=\"values\", data=df)\n",
    "locs, labels = plt.xticks()\n",
    "plt.show()"
   ]
  },
  {
   "cell_type": "markdown",
   "metadata": {},
   "source": [
    "If we check out the category one column, it has 2 catogries that is __'N' and 'Y__'  and most of the values falls under '__N__'  category"
   ]
  },
  {
   "cell_type": "code",
   "execution_count": 81,
   "metadata": {},
   "outputs": [
    {
     "data": {
      "image/png": "[encoded data removed]",
      "text/plain": [
       "<Figure size 432x432 with 1 Axes>"
      ]
     },
     "metadata": {
      "needs_background": "light"
     },
     "output_type": "display_data"
    }
   ],
   "source": [
    "# Values count for category 2 in old merchant data\n",
    "\n",
    "temp = merchant_df[\"category_2\"].value_counts()\n",
    "df = pd.DataFrame({'labels': temp.index,\n",
    "                   'values': temp.values\n",
    "                  })\n",
    "plt.figure(figsize = (6,6))\n",
    "plt.title('category_2 in merchant')\n",
    "sns.set_color_codes(\"pastel\")\n",
    "sns.barplot(x = 'labels', y=\"values\", data=df)\n",
    "locs, labels = plt.xticks()\n",
    "plt.show()"
   ]
  },
  {
   "cell_type": "markdown",
   "metadata": {},
   "source": [
    "For the category 2 column it has 5 lebels that is 1,2,3,4,5"
   ]
  },
  {
   "cell_type": "code",
   "execution_count": 82,
   "metadata": {},
   "outputs": [
    {
     "data": {
      "image/png": "[encoded data removed]",
      "text/plain": [
       "<Figure size 432x432 with 1 Axes>"
      ]
     },
     "metadata": {
      "needs_background": "light"
     },
     "output_type": "display_data"
    }
   ],
   "source": [
    "# Values of most recent purchase category\n",
    "\n",
    "temp = merchant_df[\"most_recent_purchases_range\"].value_counts()\n",
    "df = pd.DataFrame({'labels': temp.index,\n",
    "                   'values': temp.values\n",
    "                  })\n",
    "plt.figure(figsize = (6,6))\n",
    "plt.title('most_recent_purchases_range in merchant')\n",
    "sns.set_color_codes(\"pastel\")\n",
    "sns.barplot(x = 'labels', y=\"values\", data=df)\n",
    "locs, labels = plt.xticks()\n",
    "plt.show()"
   ]
  },
  {
   "cell_type": "markdown",
   "metadata": {},
   "source": [
    "For the most recent purchase column, we can see that it has 5 categories and catogogy E has the highest purchase values."
   ]
  },
  {
   "cell_type": "code",
   "execution_count": 83,
   "metadata": {},
   "outputs": [
    {
     "data": {
      "image/png": "[encoded data removed]",
      "text/plain": [
       "<Figure size 432x432 with 1 Axes>"
      ]
     },
     "metadata": {
      "needs_background": "light"
     },
     "output_type": "display_data"
    }
   ],
   "source": [
    "# Values of most recent sales category\n",
    "\n",
    "temp = merchant_df[\"most_recent_sales_range\"].value_counts()\n",
    "df = pd.DataFrame({'labels': temp.index,\n",
    "                   'values': temp.values\n",
    "                  })\n",
    "plt.figure(figsize = (6,6))\n",
    "plt.title('most_recent_sales_range in merchant')\n",
    "sns.set_color_codes(\"pastel\")\n",
    "sns.barplot(x = 'labels', y=\"values\", data=df)\n",
    "locs, labels = plt.xticks()\n",
    "plt.show()"
   ]
  },
  {
   "cell_type": "markdown",
   "metadata": {},
   "source": [
    "For the most recent sales column, we can see that it has 5 categories and catogogy E has the highest sales values, which is expected."
   ]
  },
  {
   "cell_type": "code",
   "execution_count": 84,
   "metadata": {},
   "outputs": [
    {
     "data": {
      "image/png": "[encoded data removed]",
      "text/plain": [
       "<Figure size 720x720 with 2 Axes>"
      ]
     },
     "metadata": {
      "needs_background": "light"
     },
     "output_type": "display_data"
    }
   ],
   "source": [
    "corrs = np.abs(Mer.corr())\n",
    "ordered_cols = (corrs).sum().sort_values().index\n",
    "np.fill_diagonal(corrs.values, 0)\n",
    "plt.figure(figsize=[10,10])\n",
    "plt.imshow(corrs.loc[ordered_cols, ordered_cols], cmap='plasma', vmin=0, vmax=1)\n",
    "plt.colorbar(shrink=0.7)\n",
    "plt.xticks(range(corrs.shape[0]), list(ordered_cols), rotation=90)\n",
    "plt.yticks(range(corrs.shape[0]), list(ordered_cols))\n",
    "plt.title('Heat map of coefficients of correlation between merchant\\'s features', fontsize=17)\n",
    "plt.show()"
   ]
  },
  {
   "cell_type": "markdown",
   "metadata": {},
   "source": [
    "###### The heat map above reveals some relationships:\n",
    "\n",
    "numerical_1 and numerical_2 are highly correlated <br>\n",
    "Avg_sales and avg_purchases within the last 3, 6, and 12 months are highly correlated, which is understandable. <br>\n",
    "mechant_group_id is little correlated with numerical_1, 2. <br>\n"
   ]
  },
  {
   "cell_type": "code",
   "execution_count": 85,
   "metadata": {},
   "outputs": [
    {
     "name": "stdout",
     "output_type": "stream",
     "text": [
      "shape of new_merchant_transactions :  (1048575, 14)\n"
     ]
    }
   ],
   "source": [
    "# Import new merchant data file\n",
    "\n",
    "new_merchant_df = pd.read_csv(\"new_merchant_transactions.csv\")\n",
    "print(\"shape of new_merchant_transactions : \",new_merchant_df.shape)"
   ]
  },
  {
   "cell_type": "markdown",
   "metadata": {},
   "source": [
    "__The new merchant data has 1,048,575 rows and 14 variables.__"
   ]
  },
  {
   "cell_type": "code",
   "execution_count": 86,
   "metadata": {},
   "outputs": [
    {
     "data": {
      "text/html": [
       "<div>\n",
       "<style scoped>\n",
       "    .dataframe tbody tr th:only-of-type {\n",
       "        vertical-align: middle;\n",
       "    }\n",
       "\n",
       "    .dataframe tbody tr th {\n",
       "        vertical-align: top;\n",
       "    }\n",
       "\n",
       "    .dataframe thead th {\n",
       "        text-align: right;\n",
       "    }\n",
       "</style>\n",
       "<table border=\"1\" class=\"dataframe\">\n",
       "  <thead>\n",
       "    <tr style=\"text-align: right;\">\n",
       "      <th></th>\n",
       "      <th>authorized_flag</th>\n",
       "      <th>card_id</th>\n",
       "      <th>city_id</th>\n",
       "      <th>category_1</th>\n",
       "      <th>installments</th>\n",
       "      <th>category_3</th>\n",
       "      <th>merchant_category_id</th>\n",
       "      <th>merchant_id</th>\n",
       "      <th>month_lag</th>\n",
       "      <th>purchase_amount</th>\n",
       "      <th>purchase_date</th>\n",
       "      <th>category_2</th>\n",
       "      <th>state_id</th>\n",
       "      <th>subsector_id</th>\n",
       "    </tr>\n",
       "  </thead>\n",
       "  <tbody>\n",
       "    <tr>\n",
       "      <th>0</th>\n",
       "      <td>Y</td>\n",
       "      <td>C_ID_415bb3a509</td>\n",
       "      <td>107</td>\n",
       "      <td>N</td>\n",
       "      <td>1</td>\n",
       "      <td>B</td>\n",
       "      <td>307</td>\n",
       "      <td>M_ID_b0c793002c</td>\n",
       "      <td>1</td>\n",
       "      <td>-0.557574</td>\n",
       "      <td>3/11/18 14:57</td>\n",
       "      <td>1.0</td>\n",
       "      <td>9</td>\n",
       "      <td>19</td>\n",
       "    </tr>\n",
       "    <tr>\n",
       "      <th>1</th>\n",
       "      <td>Y</td>\n",
       "      <td>C_ID_415bb3a509</td>\n",
       "      <td>140</td>\n",
       "      <td>N</td>\n",
       "      <td>1</td>\n",
       "      <td>B</td>\n",
       "      <td>307</td>\n",
       "      <td>M_ID_88920c89e8</td>\n",
       "      <td>1</td>\n",
       "      <td>-0.569580</td>\n",
       "      <td>3/19/18 18:53</td>\n",
       "      <td>1.0</td>\n",
       "      <td>9</td>\n",
       "      <td>19</td>\n",
       "    </tr>\n",
       "    <tr>\n",
       "      <th>2</th>\n",
       "      <td>Y</td>\n",
       "      <td>C_ID_415bb3a509</td>\n",
       "      <td>330</td>\n",
       "      <td>N</td>\n",
       "      <td>1</td>\n",
       "      <td>B</td>\n",
       "      <td>507</td>\n",
       "      <td>M_ID_ad5237ef6b</td>\n",
       "      <td>2</td>\n",
       "      <td>-0.551037</td>\n",
       "      <td>4/26/18 14:08</td>\n",
       "      <td>1.0</td>\n",
       "      <td>9</td>\n",
       "      <td>14</td>\n",
       "    </tr>\n",
       "    <tr>\n",
       "      <th>3</th>\n",
       "      <td>Y</td>\n",
       "      <td>C_ID_415bb3a509</td>\n",
       "      <td>-1</td>\n",
       "      <td>Y</td>\n",
       "      <td>1</td>\n",
       "      <td>B</td>\n",
       "      <td>661</td>\n",
       "      <td>M_ID_9e84cda3b1</td>\n",
       "      <td>1</td>\n",
       "      <td>-0.671926</td>\n",
       "      <td>3/7/18 9:43</td>\n",
       "      <td>NaN</td>\n",
       "      <td>-1</td>\n",
       "      <td>8</td>\n",
       "    </tr>\n",
       "    <tr>\n",
       "      <th>4</th>\n",
       "      <td>Y</td>\n",
       "      <td>C_ID_ef55cf8d4b</td>\n",
       "      <td>-1</td>\n",
       "      <td>Y</td>\n",
       "      <td>1</td>\n",
       "      <td>B</td>\n",
       "      <td>166</td>\n",
       "      <td>M_ID_3c86fa3831</td>\n",
       "      <td>1</td>\n",
       "      <td>-0.659904</td>\n",
       "      <td>3/22/18 21:07</td>\n",
       "      <td>NaN</td>\n",
       "      <td>-1</td>\n",
       "      <td>29</td>\n",
       "    </tr>\n",
       "  </tbody>\n",
       "</table>\n",
       "</div>"
      ],
      "text/plain": [
       "  authorized_flag          card_id  city_id category_1  installments  \\\n",
       "0               Y  C_ID_415bb3a509      107          N             1   \n",
       "1               Y  C_ID_415bb3a509      140          N             1   \n",
       "2               Y  C_ID_415bb3a509      330          N             1   \n",
       "3               Y  C_ID_415bb3a509       -1          Y             1   \n",
       "4               Y  C_ID_ef55cf8d4b       -1          Y             1   \n",
       "\n",
       "  category_3  merchant_category_id      merchant_id  month_lag  \\\n",
       "0          B                   307  M_ID_b0c793002c          1   \n",
       "1          B                   307  M_ID_88920c89e8          1   \n",
       "2          B                   507  M_ID_ad5237ef6b          2   \n",
       "3          B                   661  M_ID_9e84cda3b1          1   \n",
       "4          B                   166  M_ID_3c86fa3831          1   \n",
       "\n",
       "   purchase_amount  purchase_date  category_2  state_id  subsector_id  \n",
       "0        -0.557574  3/11/18 14:57         1.0         9            19  \n",
       "1        -0.569580  3/19/18 18:53         1.0         9            19  \n",
       "2        -0.551037  4/26/18 14:08         1.0         9            14  \n",
       "3        -0.671926    3/7/18 9:43         NaN        -1             8  \n",
       "4        -0.659904  3/22/18 21:07         NaN        -1            29  "
      ]
     },
     "execution_count": 86,
     "metadata": {},
     "output_type": "execute_result"
    }
   ],
   "source": [
    "new_merchant_df.head()"
   ]
  },
  {
   "cell_type": "markdown",
   "metadata": {},
   "source": [
    "__The new merchant data has a columns like authorized flag, installments, merchant category id, month lag and other merchant information.__ "
   ]
  },
  {
   "cell_type": "code",
   "execution_count": 87,
   "metadata": {},
   "outputs": [
    {
     "data": {
      "text/html": [
       "<div>\n",
       "<style scoped>\n",
       "    .dataframe tbody tr th:only-of-type {\n",
       "        vertical-align: middle;\n",
       "    }\n",
       "\n",
       "    .dataframe tbody tr th {\n",
       "        vertical-align: top;\n",
       "    }\n",
       "\n",
       "    .dataframe thead th {\n",
       "        text-align: right;\n",
       "    }\n",
       "</style>\n",
       "<table border=\"1\" class=\"dataframe\">\n",
       "  <thead>\n",
       "    <tr style=\"text-align: right;\">\n",
       "      <th></th>\n",
       "      <th>Total</th>\n",
       "      <th>Percent</th>\n",
       "    </tr>\n",
       "  </thead>\n",
       "  <tbody>\n",
       "    <tr>\n",
       "      <th>category_2</th>\n",
       "      <td>52936</td>\n",
       "      <td>5.048375</td>\n",
       "    </tr>\n",
       "    <tr>\n",
       "      <th>category_3</th>\n",
       "      <td>26054</td>\n",
       "      <td>2.484705</td>\n",
       "    </tr>\n",
       "    <tr>\n",
       "      <th>merchant_id</th>\n",
       "      <td>12044</td>\n",
       "      <td>1.148606</td>\n",
       "    </tr>\n",
       "    <tr>\n",
       "      <th>subsector_id</th>\n",
       "      <td>0</td>\n",
       "      <td>0.000000</td>\n",
       "    </tr>\n",
       "    <tr>\n",
       "      <th>state_id</th>\n",
       "      <td>0</td>\n",
       "      <td>0.000000</td>\n",
       "    </tr>\n",
       "    <tr>\n",
       "      <th>purchase_date</th>\n",
       "      <td>0</td>\n",
       "      <td>0.000000</td>\n",
       "    </tr>\n",
       "    <tr>\n",
       "      <th>purchase_amount</th>\n",
       "      <td>0</td>\n",
       "      <td>0.000000</td>\n",
       "    </tr>\n",
       "    <tr>\n",
       "      <th>month_lag</th>\n",
       "      <td>0</td>\n",
       "      <td>0.000000</td>\n",
       "    </tr>\n",
       "    <tr>\n",
       "      <th>merchant_category_id</th>\n",
       "      <td>0</td>\n",
       "      <td>0.000000</td>\n",
       "    </tr>\n",
       "    <tr>\n",
       "      <th>installments</th>\n",
       "      <td>0</td>\n",
       "      <td>0.000000</td>\n",
       "    </tr>\n",
       "    <tr>\n",
       "      <th>category_1</th>\n",
       "      <td>0</td>\n",
       "      <td>0.000000</td>\n",
       "    </tr>\n",
       "    <tr>\n",
       "      <th>city_id</th>\n",
       "      <td>0</td>\n",
       "      <td>0.000000</td>\n",
       "    </tr>\n",
       "    <tr>\n",
       "      <th>card_id</th>\n",
       "      <td>0</td>\n",
       "      <td>0.000000</td>\n",
       "    </tr>\n",
       "    <tr>\n",
       "      <th>authorized_flag</th>\n",
       "      <td>0</td>\n",
       "      <td>0.000000</td>\n",
       "    </tr>\n",
       "  </tbody>\n",
       "</table>\n",
       "</div>"
      ],
      "text/plain": [
       "                      Total   Percent\n",
       "category_2            52936  5.048375\n",
       "category_3            26054  2.484705\n",
       "merchant_id           12044  1.148606\n",
       "subsector_id              0  0.000000\n",
       "state_id                  0  0.000000\n",
       "purchase_date             0  0.000000\n",
       "purchase_amount           0  0.000000\n",
       "month_lag                 0  0.000000\n",
       "merchant_category_id      0  0.000000\n",
       "installments              0  0.000000\n",
       "category_1                0  0.000000\n",
       "city_id                   0  0.000000\n",
       "card_id                   0  0.000000\n",
       "authorized_flag           0  0.000000"
      ]
     },
     "execution_count": 87,
     "metadata": {},
     "output_type": "execute_result"
    }
   ],
   "source": [
    "# checking missing data for old merchant dataset\n",
    "\n",
    "total = new_merchant_df.isnull().sum().sort_values(ascending = False)\n",
    "percent = (new_merchant_df.isnull().sum()/new_merchant_df.isnull().count()*100).sort_values(ascending = False)\n",
    "missing_data  = pd.concat([total, percent], axis=1, keys=['Total', 'Percent'])\n",
    "missing_data.head(20)"
   ]
  },
  {
   "cell_type": "markdown",
   "metadata": {},
   "source": [
    "There are some missing values in columns like category_1, category_3.\n",
    "\n",
    "#### Check out the column authorized flag."
   ]
  },
  {
   "cell_type": "code",
   "execution_count": 89,
   "metadata": {},
   "outputs": [
    {
     "data": {
      "text/plain": [
       "array(['Y'], dtype=object)"
      ]
     },
     "execution_count": 89,
     "metadata": {},
     "output_type": "execute_result"
    }
   ],
   "source": [
    "new_merchant_df['authorized_flag'].unique()"
   ]
  },
  {
   "cell_type": "markdown",
   "metadata": {},
   "source": [
    "We can see that all the values in authorized flag column  is Y. It seems like they have authorized all the credit cards to the new customers."
   ]
  },
  {
   "cell_type": "code",
   "execution_count": 90,
   "metadata": {},
   "outputs": [
    {
     "data": {
      "text/html": [
       "<div>\n",
       "<style scoped>\n",
       "    .dataframe tbody tr th:only-of-type {\n",
       "        vertical-align: middle;\n",
       "    }\n",
       "\n",
       "    .dataframe tbody tr th {\n",
       "        vertical-align: top;\n",
       "    }\n",
       "\n",
       "    .dataframe thead th {\n",
       "        text-align: right;\n",
       "    }\n",
       "</style>\n",
       "<table border=\"1\" class=\"dataframe\">\n",
       "  <thead>\n",
       "    <tr style=\"text-align: right;\">\n",
       "      <th></th>\n",
       "      <th>city_id</th>\n",
       "      <th>category_1</th>\n",
       "      <th>category_3</th>\n",
       "      <th>category_2</th>\n",
       "      <th>merchant_category_id</th>\n",
       "      <th>state_id</th>\n",
       "      <th>subsector_id</th>\n",
       "    </tr>\n",
       "  </thead>\n",
       "  <tbody>\n",
       "    <tr>\n",
       "      <th>0</th>\n",
       "      <td>107</td>\n",
       "      <td>N</td>\n",
       "      <td>B</td>\n",
       "      <td>1.0</td>\n",
       "      <td>307</td>\n",
       "      <td>9</td>\n",
       "      <td>19</td>\n",
       "    </tr>\n",
       "    <tr>\n",
       "      <th>1</th>\n",
       "      <td>140</td>\n",
       "      <td>N</td>\n",
       "      <td>B</td>\n",
       "      <td>1.0</td>\n",
       "      <td>307</td>\n",
       "      <td>9</td>\n",
       "      <td>19</td>\n",
       "    </tr>\n",
       "    <tr>\n",
       "      <th>2</th>\n",
       "      <td>330</td>\n",
       "      <td>N</td>\n",
       "      <td>B</td>\n",
       "      <td>1.0</td>\n",
       "      <td>507</td>\n",
       "      <td>9</td>\n",
       "      <td>14</td>\n",
       "    </tr>\n",
       "    <tr>\n",
       "      <th>3</th>\n",
       "      <td>-1</td>\n",
       "      <td>Y</td>\n",
       "      <td>B</td>\n",
       "      <td>NaN</td>\n",
       "      <td>661</td>\n",
       "      <td>-1</td>\n",
       "      <td>8</td>\n",
       "    </tr>\n",
       "    <tr>\n",
       "      <th>4</th>\n",
       "      <td>-1</td>\n",
       "      <td>Y</td>\n",
       "      <td>B</td>\n",
       "      <td>NaN</td>\n",
       "      <td>166</td>\n",
       "      <td>-1</td>\n",
       "      <td>29</td>\n",
       "    </tr>\n",
       "  </tbody>\n",
       "</table>\n",
       "</div>"
      ],
      "text/plain": [
       "   city_id category_1 category_3  category_2  merchant_category_id  state_id  \\\n",
       "0      107          N          B         1.0                   307         9   \n",
       "1      140          N          B         1.0                   307         9   \n",
       "2      330          N          B         1.0                   507         9   \n",
       "3       -1          Y          B         NaN                   661        -1   \n",
       "4       -1          Y          B         NaN                   166        -1   \n",
       "\n",
       "   subsector_id  \n",
       "0            19  \n",
       "1            19  \n",
       "2            14  \n",
       "3             8  \n",
       "4            29  "
      ]
     },
     "execution_count": 90,
     "metadata": {},
     "output_type": "execute_result"
    }
   ],
   "source": [
    "categorical_columns = ['city_id', 'category_1', 'category_3','category_2', 'merchant_category_id', 'state_id', 'subsector_id']\n",
    "new_merchant_df[categorical_columns].head()\n"
   ]
  },
  {
   "cell_type": "markdown",
   "metadata": {},
   "source": [
    "__Exploring the Historical transactions data.__"
   ]
  },
  {
   "cell_type": "code",
   "execution_count": 91,
   "metadata": {},
   "outputs": [
    {
     "data": {
      "text/html": [
       "<div>\n",
       "<style scoped>\n",
       "    .dataframe tbody tr th:only-of-type {\n",
       "        vertical-align: middle;\n",
       "    }\n",
       "\n",
       "    .dataframe tbody tr th {\n",
       "        vertical-align: top;\n",
       "    }\n",
       "\n",
       "    .dataframe thead th {\n",
       "        text-align: right;\n",
       "    }\n",
       "</style>\n",
       "<table border=\"1\" class=\"dataframe\">\n",
       "  <thead>\n",
       "    <tr style=\"text-align: right;\">\n",
       "      <th></th>\n",
       "      <th>authorized_flag</th>\n",
       "      <th>card_id</th>\n",
       "      <th>city_id</th>\n",
       "      <th>category_1</th>\n",
       "      <th>installments</th>\n",
       "      <th>category_3</th>\n",
       "      <th>merchant_category_id</th>\n",
       "      <th>merchant_id</th>\n",
       "      <th>month_lag</th>\n",
       "      <th>purchase_amount</th>\n",
       "      <th>purchase_date</th>\n",
       "      <th>category_2</th>\n",
       "      <th>state_id</th>\n",
       "      <th>subsector_id</th>\n",
       "    </tr>\n",
       "  </thead>\n",
       "  <tbody>\n",
       "    <tr>\n",
       "      <th>0</th>\n",
       "      <td>Y</td>\n",
       "      <td>C_ID_4e6213e9bc</td>\n",
       "      <td>88</td>\n",
       "      <td>N</td>\n",
       "      <td>0</td>\n",
       "      <td>A</td>\n",
       "      <td>80</td>\n",
       "      <td>M_ID_e020e9b302</td>\n",
       "      <td>-8</td>\n",
       "      <td>-0.703331</td>\n",
       "      <td>2017-06-25 15:33:07</td>\n",
       "      <td>1.0</td>\n",
       "      <td>16</td>\n",
       "      <td>37</td>\n",
       "    </tr>\n",
       "    <tr>\n",
       "      <th>1</th>\n",
       "      <td>Y</td>\n",
       "      <td>C_ID_4e6213e9bc</td>\n",
       "      <td>88</td>\n",
       "      <td>N</td>\n",
       "      <td>0</td>\n",
       "      <td>A</td>\n",
       "      <td>367</td>\n",
       "      <td>M_ID_86ec983688</td>\n",
       "      <td>-7</td>\n",
       "      <td>-0.733128</td>\n",
       "      <td>2017-07-15 12:10:45</td>\n",
       "      <td>1.0</td>\n",
       "      <td>16</td>\n",
       "      <td>16</td>\n",
       "    </tr>\n",
       "    <tr>\n",
       "      <th>2</th>\n",
       "      <td>Y</td>\n",
       "      <td>C_ID_4e6213e9bc</td>\n",
       "      <td>88</td>\n",
       "      <td>N</td>\n",
       "      <td>0</td>\n",
       "      <td>A</td>\n",
       "      <td>80</td>\n",
       "      <td>M_ID_979ed661fc</td>\n",
       "      <td>-6</td>\n",
       "      <td>-0.720386</td>\n",
       "      <td>2017-08-09 22:04:29</td>\n",
       "      <td>1.0</td>\n",
       "      <td>16</td>\n",
       "      <td>37</td>\n",
       "    </tr>\n",
       "    <tr>\n",
       "      <th>3</th>\n",
       "      <td>Y</td>\n",
       "      <td>C_ID_4e6213e9bc</td>\n",
       "      <td>88</td>\n",
       "      <td>N</td>\n",
       "      <td>0</td>\n",
       "      <td>A</td>\n",
       "      <td>560</td>\n",
       "      <td>M_ID_e6d5ae8ea6</td>\n",
       "      <td>-5</td>\n",
       "      <td>-0.735352</td>\n",
       "      <td>2017-09-02 10:06:26</td>\n",
       "      <td>1.0</td>\n",
       "      <td>16</td>\n",
       "      <td>34</td>\n",
       "    </tr>\n",
       "    <tr>\n",
       "      <th>4</th>\n",
       "      <td>Y</td>\n",
       "      <td>C_ID_4e6213e9bc</td>\n",
       "      <td>88</td>\n",
       "      <td>N</td>\n",
       "      <td>0</td>\n",
       "      <td>A</td>\n",
       "      <td>80</td>\n",
       "      <td>M_ID_e020e9b302</td>\n",
       "      <td>-11</td>\n",
       "      <td>-0.722865</td>\n",
       "      <td>2017-03-10 01:14:19</td>\n",
       "      <td>1.0</td>\n",
       "      <td>16</td>\n",
       "      <td>37</td>\n",
       "    </tr>\n",
       "  </tbody>\n",
       "</table>\n",
       "</div>"
      ],
      "text/plain": [
       "  authorized_flag          card_id  city_id category_1  installments  \\\n",
       "0               Y  C_ID_4e6213e9bc       88          N             0   \n",
       "1               Y  C_ID_4e6213e9bc       88          N             0   \n",
       "2               Y  C_ID_4e6213e9bc       88          N             0   \n",
       "3               Y  C_ID_4e6213e9bc       88          N             0   \n",
       "4               Y  C_ID_4e6213e9bc       88          N             0   \n",
       "\n",
       "  category_3  merchant_category_id      merchant_id  month_lag  \\\n",
       "0          A                    80  M_ID_e020e9b302         -8   \n",
       "1          A                   367  M_ID_86ec983688         -7   \n",
       "2          A                    80  M_ID_979ed661fc         -6   \n",
       "3          A                   560  M_ID_e6d5ae8ea6         -5   \n",
       "4          A                    80  M_ID_e020e9b302        -11   \n",
       "\n",
       "   purchase_amount        purchase_date  category_2  state_id  subsector_id  \n",
       "0        -0.703331  2017-06-25 15:33:07         1.0        16            37  \n",
       "1        -0.733128  2017-07-15 12:10:45         1.0        16            16  \n",
       "2        -0.720386  2017-08-09 22:04:29         1.0        16            37  \n",
       "3        -0.735352  2017-09-02 10:06:26         1.0        16            34  \n",
       "4        -0.722865  2017-03-10 01:14:19         1.0        16            37  "
      ]
     },
     "execution_count": 91,
     "metadata": {},
     "output_type": "execute_result"
    }
   ],
   "source": [
    "# Now lets look at the historical data\n",
    "\n",
    "hist_df = pd.read_csv(\"historical_transactions.csv\")\n",
    "hist_df.head()"
   ]
  },
  {
   "cell_type": "code",
   "execution_count": 92,
   "metadata": {},
   "outputs": [
    {
     "data": {
      "text/plain": [
       "(29112361, 14)"
      ]
     },
     "execution_count": 92,
     "metadata": {},
     "output_type": "execute_result"
    }
   ],
   "source": [
    "hist_df.shape"
   ]
  },
  {
   "cell_type": "markdown",
   "metadata": {},
   "source": [
    "__There are total  2.9 million rows and 14 variable in historical dataset.__"
   ]
  },
  {
   "cell_type": "markdown",
   "metadata": {},
   "source": [
    "__It’s the distribution plot (using seaborn) of the histogram plot plotted for the ‘month_lag’ column. This column belongs to the ‘historical_transactions’ file which gives the historical transaction details for three months for every card transacted. In this plot, the month_lag column states that how many months from the reference date(current transaction) did the transaction(historical transaction) take place.__"
   ]
  },
  {
   "cell_type": "code",
   "execution_count": 94,
   "metadata": {},
   "outputs": [
    {
     "data": {
      "text/plain": [
       "authorized_flag               0\n",
       "card_id                       0\n",
       "city_id                       0\n",
       "category_1                    0\n",
       "installments                  0\n",
       "category_3               178159\n",
       "merchant_category_id          0\n",
       "merchant_id              138481\n",
       "month_lag                     0\n",
       "purchase_amount               0\n",
       "purchase_date                 0\n",
       "category_2              2652864\n",
       "state_id                      0\n",
       "subsector_id                  0\n",
       "dtype: int64"
      ]
     },
     "execution_count": 94,
     "metadata": {},
     "output_type": "execute_result"
    }
   ],
   "source": [
    "hist_df.isnull().sum()"
   ]
  },
  {
   "cell_type": "code",
   "execution_count": 95,
   "metadata": {},
   "outputs": [],
   "source": [
    "# convert the authorized_flag to a binary value\n",
    "\n",
    "hist_df['authorized_flag'] = hist_df['authorized_flag'].map({'Y':1, 'N':0})"
   ]
  },
  {
   "cell_type": "markdown",
   "metadata": {},
   "source": [
    "__We can see that we have null values in some columns like category_3, category_2.__"
   ]
  },
  {
   "cell_type": "code",
   "execution_count": 96,
   "metadata": {},
   "outputs": [],
   "source": [
    "def aggregate_historical_transactions(history):\n",
    "    \n",
    "    history.loc[:, 'purchase_date'] = pd.DatetimeIndex(history['purchase_date']).\\\n",
    "                                      astype(np.int64) * 1e-9\n",
    "    \n",
    "    agg_func = {\n",
    "        'authorized_flag': ['sum', 'mean'],\n",
    "        'merchant_id': ['nunique'],\n",
    "        'city_id': ['nunique'],\n",
    "        'purchase_amount': ['sum', 'median', 'max', 'min', 'std'],\n",
    "        'installments': ['sum', 'median', 'max', 'min', 'std'],\n",
    "        'purchase_date': [np.ptp],\n",
    "        'month_lag': ['min', 'max']\n",
    "        }\n",
    "    agg_history = history.groupby(['card_id']).agg(agg_func)\n",
    "    agg_history.columns = ['hist_' + '_'.join(col).strip() \n",
    "                           for col in agg_history.columns.values]\n",
    "    agg_history.reset_index(inplace=True)\n",
    "    \n",
    "    df = (history.groupby('card_id')\n",
    "          .size()\n",
    "          .reset_index(name='hist_transactions_count'))\n",
    "    \n",
    "    agg_history = pd.merge(df, agg_history, on='card_id', how='left')\n",
    "    \n",
    "    return agg_history\n",
    "\n",
    "history = aggregate_historical_transactions(hist_df)"
   ]
  },
  {
   "cell_type": "markdown",
   "metadata": {},
   "source": [
    "__Exploring the city id column from historical data__ "
   ]
  },
  {
   "cell_type": "code",
   "execution_count": 97,
   "metadata": {},
   "outputs": [
    {
     "data": {
      "text/plain": [
       "<matplotlib.axes._subplots.AxesSubplot at 0x1a396922b0>"
      ]
     },
     "execution_count": 97,
     "metadata": {},
     "output_type": "execute_result"
    },
    {
     "data": {
      "image/png": "[encoded data removed]",
      "text/plain": [
       "<Figure size 1008x432 with 1 Axes>"
      ]
     },
     "metadata": {
      "needs_background": "light"
     },
     "output_type": "display_data"
    }
   ],
   "source": [
    "#  Distribution plot for month lag \n",
    "\n",
    "f, ax = plt.subplots(figsize=(14, 6))\n",
    "sns.distplot(hist_df['month_lag'], color = 'green')"
   ]
  },
  {
   "cell_type": "code",
   "execution_count": 98,
   "metadata": {},
   "outputs": [
    {
     "data": {
      "image/png": "[encoded data removed]",
      "text/plain": [
       "<Figure size 1296x576 with 1 Axes>"
      ]
     },
     "metadata": {
      "needs_background": "light"
     },
     "output_type": "display_data"
    }
   ],
   "source": [
    "\n",
    "temp = history[\"hist_city_id_nunique\"].value_counts()\n",
    "df = pd.DataFrame({'labels': temp.index,\n",
    "                   'values': temp.values\n",
    "                  })\n",
    "plt.figure(figsize = (18,8))\n",
    "plt.title('hist_city_id_nunique')\n",
    "sns.set_color_codes(\"pastel\")\n",
    "sns.barplot(x = 'labels', y=\"values\", data=df)\n",
    "locs, labels = plt.xticks()\n",
    "plt.show()"
   ]
  },
  {
   "cell_type": "markdown",
   "metadata": {},
   "source": [
    "__We can see from the bar graph that most of the cities which are labeled from 2 to 7 are the highest user of credit cards.__"
   ]
  },
  {
   "cell_type": "markdown",
   "metadata": {},
   "source": [
    "\n",
    "__After doing exploratory analysis, there is a huge need of data preprocessing like, changing the type of variables using label encoding and one hot encoding and many others which will be done in data pre processing file.__ "
   ]
  },
  {
   "cell_type": "code",
   "execution_count": null,
   "metadata": {},
   "outputs": [],
   "source": []
  }
 ],
 "metadata": {
  "kernelspec": {
   "display_name": "Python 3",
   "language": "python",
   "name": "python3"
  },
  "language_info": {
   "codemirror_mode": {
    "name": "ipython",
    "version": 3
   },
   "file_extension": ".py",
   "mimetype": "text/x-python",
   "name": "python",
   "nbconvert_exporter": "python",
   "pygments_lexer": "ipython3",
   "version": "3.7.1"
  }
 },
 "nbformat": 4,
 "nbformat_minor": 2
}
